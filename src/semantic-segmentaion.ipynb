{
 "cells": [
  {
   "cell_type": "code",
   "execution_count": 285,
   "metadata": {},
   "outputs": [],
   "source": [
    "import pandas as pd\n",
    "import numpy as np\n",
    "import seaborn as sns\n",
    "import random\n",
    "from pylab import imread, imshow, imsave, plt\n",
    "from enum import Enum\n",
    "import matplotlib\n",
    "import os\n",
    "\n",
    "class Dataset(Enum):\n",
    "    \"\"\"Three different datasets.\"\"\"\n",
    "    DRIVE = 0\n",
    "    STARE = 1\n",
    "    CHASE = 2\n",
    "\n",
    "DRIVE_TRAINING_IMAGES_PATH = '../../data/DRIVE/training/images/'\n",
    "DRIVE_TRAINING_SEG_1_PATH = '../../data/DRIVE/training/1st_manual/'\n",
    "DRIVE_TRAINING_MASK_PATH = '../../data/DRIVE/training/mask/'\n",
    "DRIVE_TEST_IMAGES_PATH = '../../data/DRIVE/test/images/'\n",
    "DRIVE_TEST_SEG_1_PATH = '../../data/DRIVE/test/1st_manual/'\n",
    "DRIVE_TEST_SEG_2_PATH = '../../data/DRIVE/test/2nd_manual/'\n",
    "DRIVE_TEST_MASK_PATH = '../../data/DRIVE/test/mask/'\n",
    "\n",
    "CHASE_IMAGES_PATH = '../../data/CHASEDB1/images/'\n",
    "CHASE_SEG_1_PATH = '../../data/CHASEDB1/segmentation/1st/'\n",
    "CHASE_SEG_2_PATH = '../../data/CHASEDB1/segmentation/2nd/'\n",
    "CHASE_MASK_PATH = '../../data/CHASEDB1/masks/'"
   ]
  },
  {
   "cell_type": "code",
   "execution_count": 286,
   "metadata": {},
   "outputs": [],
   "source": [
    "def load_images_from_folder(folder_path):\n",
    "    file_names = os.listdir(folder_path)\n",
    "    file_names.sort()\n",
    "    images = []\n",
    "    for filename in file_names:\n",
    "        try:\n",
    "            image = imread(folder_path + filename)\n",
    "            images.append(image)\n",
    "        except:\n",
    "            continue\n",
    "            \n",
    "    return images\n",
    "    "
   ]
  },
  {
   "cell_type": "code",
   "execution_count": 301,
   "metadata": {},
   "outputs": [],
   "source": [
    "def get_patches_with_mask(image, labels, m, n_patches, mask, condition_function):\n",
    "    patches = []\n",
    "    label_patches = []\n",
    "    while len(patches) < n_patches:\n",
    "        random_x, random_y = (random.randint(int(m/2),image.shape[0] - int(m/2)) - 1, random.randint(int(m/2), image.shape[1] - int(m/2)) - 1)\n",
    "        start_x = random_x - int(m/2)\n",
    "        end_x = random_x + int(m/2)\n",
    "        start_y = random_y - int(m/2)\n",
    "        end_y = random_y + int(m/2)\n",
    "        mask_patch = mask[start_x : end_x,start_y:end_y]\n",
    "        #fig = plt.figure()\n",
    "        # check if mask contains 0 values\n",
    "        if condition_function(mask_patch):\n",
    "            #print('invalid')\n",
    "            continue\n",
    "        else:\n",
    "            #print('valid')\n",
    "            image_patch = image[start_x : end_x,start_y:end_y]\n",
    "            label_patch = labels[start_x : end_x,start_y:end_y]\n",
    "            patches.append(image_patch)\n",
    "            label_patches.append(label_patch)\n",
    "        '''\n",
    "        ax1 = fig.add_subplot(2,2,1)\n",
    "        ax1.imshow(image_patch)\n",
    "        ax2 = fig.add_subplot(2,2,2)s\n",
    "        ax2.imshow(mask_patch)\n",
    "        ax3 = fig.add_subplot(2,2,3)\n",
    "        ax3.imshow(label_patch)'''\n",
    "    return patches, label_patches"
   ]
  },
  {
   "cell_type": "code",
   "execution_count": 302,
   "metadata": {},
   "outputs": [],
   "source": [
    "def get_image_pathes(image, labels, m, n_patches, dataset, mask=None):\n",
    "    \"\"\"\"\"\"\n",
    "    if dataset == Dataset.DRIVE:\n",
    "        if mask is None:\n",
    "            raise Exception('Mask must be provided for DRIVE dataset')\n",
    "        def mask_condition(mask_patch):\n",
    "            return any(0 in row for row in mask_patch)\n",
    "        return get_patches_with_mask(image, labels, m, n_patches, mask, mask_condition)\n",
    "    elif dataset == Dataset.CHASE:\n",
    "        if mask is None:\n",
    "            raise Exception('Mask must be provided for CHASE dataset')\n",
    "        def mask_condition(mask_patch):\n",
    "            return any(any(col[0] > 0.3 for col in row) for row in mask_patch)\n",
    "        return get_patches_with_mask(image, labels, m, n_patches, mask, mask_condition)           \n",
    "    return "
   ]
  },
  {
   "cell_type": "code",
   "execution_count": 303,
   "metadata": {},
   "outputs": [],
   "source": [
    "drive_image = load_images_from_folder(DRIVE_TRAINING_IMAGES_PATH)[0]\n",
    "drive_segmentation = load_images_from_folder(DRIVE_TRAINING_SEG_1_PATH)[0]\n",
    "drive_mask = load_images_from_folder(DRIVE_TRAINING_MASK_PATH)[0]\n",
    "\n",
    "chase_image = load_images_from_folder(CHASE_IMAGES_PATH)[12]\n",
    "chase_segmentation = load_images_from_folder(CHASE_SEG_1_PATH)[12]\n",
    "chase_mask = load_images_from_folder(CHASE_MASK_PATH)[12]"
   ]
  },
  {
   "cell_type": "code",
   "execution_count": 306,
   "metadata": {},
   "outputs": [],
   "source": [
    "#patch_images_drive, patch_labels_drive = get_image_pathes(drive_image, drive_segmentation, 200, 1, Dataset.DRIVE, drive_mask)\n",
    "patch_images_chase, patch_labels_chase = get_image_pathes(chase_image, chase_segmentation, 200, 10, Dataset.CHASE,chase_mask)"
   ]
  },
  {
   "cell_type": "code",
   "execution_count": 307,
   "metadata": {},
   "outputs": [],
   "source": [
    "for (i,image) in enumerate(patch_images_chase):\n",
    "    file_path = './PatchTestImages/' + str(i) + '.png'\n",
    "    save_image(file_path, image)"
   ]
  },
  {
   "cell_type": "code",
   "execution_count": 114,
   "metadata": {},
   "outputs": [],
   "source": [
    "def save_image(image_path, image):\n",
    "    imsave(image_path, image)"
   ]
  },
  {
   "cell_type": "code",
   "execution_count": 26,
   "metadata": {},
   "outputs": [],
   "source": [
    "def create_chase_mask(image, image_path=None):\n",
    "    from skimage.filters import threshold_li\n",
    "    from skimage.color import rgb2gray\n",
    "    im_gray = rgb2gray(image)\n",
    "    thresh_val = threshold_li(im_gray)\n",
    "    mask = np.where(im_gray > thresh_val, 1, 0)\n",
    "\n",
    "    # Make sure the larger portion of the mask is considered background\n",
    "    if np.sum(mask==0) < np.sum(mask==1):\n",
    "        mask = np.where(mask, 0, 1)\n",
    "    if image_path:    \n",
    "        save_image(image_path, mask)"
   ]
  },
  {
   "cell_type": "code",
   "execution_count": 454,
   "metadata": {},
   "outputs": [],
   "source": [
    "def generate_stare_mask(image):\n",
    "    initial_mask = image.copy()\n",
    "    for row in range(image.shape[0]):\n",
    "        for col in range(image.shape[1]):\n",
    "            #print(image[row][col], (image[row][col] == 0).sum())\n",
    "            if (image[row][col] == 0).sum() == 3:\n",
    "                initial_mask[row][col] = [0, 0 , 0]\n",
    "            else:\n",
    "                initial_mask[row][col] = [255, 255 , 255]\n",
    "    fig = plt.figure()\n",
    "    ax1 = fig.add_subplot(2,2,1)\n",
    "    ax1.imshow(initial_mask)\n",
    "    ax2 = fig.add_subplot(2,2,2)\n",
    "    ax2.imshow(image)\n",
    "    #save_image('./PatchTestImages/1.png', initial_mask)\n",
    "    #save_image('./PatchTestImages/2.png', image)\n",
    "    "
   ]
  },
  {
   "cell_type": "code",
   "execution_count": null,
   "metadata": {},
   "outputs": [],
   "source": []
  }
 ],
 "metadata": {
  "kernelspec": {
   "display_name": "DLproject",
   "language": "python",
   "name": "dlproject"
  },
  "language_info": {
   "codemirror_mode": {
    "name": "ipython",
    "version": 3
   },
   "file_extension": ".py",
   "mimetype": "text/x-python",
   "name": "python",
   "nbconvert_exporter": "python",
   "pygments_lexer": "ipython3",
   "version": "3.7.3"
  }
 },
 "nbformat": 4,
 "nbformat_minor": 2
}
