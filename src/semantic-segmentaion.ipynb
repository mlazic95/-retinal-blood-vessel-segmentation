{
 "cells": [
  {
   "cell_type": "code",
   "execution_count": 1,
   "metadata": {},
   "outputs": [],
   "source": [
    "import pandas as pd\n",
    "import numpy as np\n",
    "import seaborn as sns\n",
    "import random\n",
    "from pylab import imread, imshow, imsave, plt\n",
    "from enum import Enum\n",
    "import matplotlib\n",
    "import os\n",
    "from sklearn.metrics import roc_auc_score\n",
    "from skimage.color import rgb2gray\n",
    "class Dataset(Enum):\n",
    "    \"\"\"Three different datasets.\"\"\"\n",
    "    DRIVE = 0\n",
    "    STARE = 1\n",
    "    CHASE = 2\n",
    "\n",
    "DRIVE_TRAINING_IMAGES_PATH = '../../data/DRIVE/training/images/'\n",
    "DRIVE_TRAINING_SEG_1_PATH = '../../data/DRIVE/training/1st_manual/'\n",
    "DRIVE_TRAINING_MASK_PATH = '../../data/DRIVE/training/mask/'\n",
    "DRIVE_TEST_IMAGES_PATH = '../../data/DRIVE/test/images/'\n",
    "DRIVE_TEST_SEG_1_PATH = '../../data/DRIVE/test/1st_manual/'\n",
    "DRIVE_TEST_SEG_2_PATH = '../../data/DRIVE/test/2nd_manual/'\n",
    "DRIVE_TEST_MASK_PATH = '../../data/DRIVE/test/mask/'\n",
    "\n",
    "CHASE_IMAGES_PATH = '../../data/CHASEDB1/images/'\n",
    "CHASE_SEG_1_PATH = '../../data/CHASEDB1/segmentation/1st/'\n",
    "CHASE_SEG_2_PATH = '../../data/CHASEDB1/segmentation/2nd/'\n",
    "CHASE_MASK_PATH = '../../data/CHASEDB1/masks/'\n",
    "\n",
    "STARE_IMAGES_PATH = '../../data/STARE/seg-img/'\n",
    "STARE_SEG_AH_PATH = '../../data/STARE/labels-ah/'\n",
    "STARE_SEG_VK_PATH = '../../data/STARE/label-vk/'"
   ]
  },
  {
   "cell_type": "code",
   "execution_count": 22,
   "metadata": {},
   "outputs": [],
   "source": [
    "def load_images_from_folder(folder_path):\n",
    "    file_names = os.listdir(folder_path)\n",
    "    file_names.sort()\n",
    "    images = []\n",
    "    for filename in file_names:\n",
    "        try:\n",
    "            image = imread(folder_path + filename)\n",
    "            images.append(image)\n",
    "        except:\n",
    "            continue\n",
    "            \n",
    "    return images\n",
    "    "
   ]
  },
  {
   "cell_type": "code",
   "execution_count": 3,
   "metadata": {},
   "outputs": [],
   "source": [
    "def get_patches_with_mask(image, labels, m, n_patches, mask, condition_function):\n",
    "    patches = []\n",
    "    label_patches = []\n",
    "    while len(patches) < n_patches:\n",
    "        random_x, random_y = (random.randint(int(m/2),image.shape[0] - int(m/2) - 1), random.randint(int(m/2), image.shape[1] - int(m/2) - 1))\n",
    "        start_x = random_x - int(m/2)\n",
    "        end_x = random_x + int(m/2)\n",
    "        start_y = random_y - int(m/2)\n",
    "        end_y = random_y + int(m/2)\n",
    "        mask_patch = mask[start_x : end_x,start_y:end_y]\n",
    "        #fig = plt.figure()\n",
    "        # check if mask contains 0 values\n",
    "        if condition_function(mask_patch):\n",
    "            #print('invalid')\n",
    "            continue\n",
    "        else:\n",
    "            #print('valid')\n",
    "            image_patch = image[start_x : end_x,start_y:end_y]\n",
    "            label_patch = labels[start_x : end_x,start_y:end_y]\n",
    "            patches.append(image_patch)\n",
    "            label_patches.append(label_patch)\n",
    "        '''\n",
    "        ax1 = fig.add_subplot(2,2,1)\n",
    "        ax1.imshow(image_patch)\n",
    "        ax2 = fig.add_subplot(2,2,2)s\n",
    "        ax2.imshow(mask_patch)\n",
    "        ax3 = fig.add_subplot(2,2,3)\n",
    "        ax3.imshow(label_patch)'''\n",
    "    return patches, label_patches"
   ]
  },
  {
   "cell_type": "code",
   "execution_count": 4,
   "metadata": {},
   "outputs": [],
   "source": [
    "def get_mask_condition_function(dataset):\n",
    "    if dataset == Dataset.DRIVE:\n",
    "        def mask_condition(mask_patch):\n",
    "            return any(0 in row for row in mask_patch)\n",
    "    else:\n",
    "        def mask_condition(mask_patch):\n",
    "            return any(any(col[0] > 0.3 for col in row) for row in mask_patch)\n",
    "    return mask_condition\n",
    "        "
   ]
  },
  {
   "cell_type": "code",
   "execution_count": 21,
   "metadata": {},
   "outputs": [],
   "source": [
    "def get_image_patches(image, labels, m, n_patches, dataset, mask=None):\n",
    "    \"\"\"\"\"\"\n",
    "    if dataset == Dataset.DRIVE:\n",
    "        if mask is None:\n",
    "            raise Exception('Mask must be provided for DRIVE dataset')\n",
    "        return get_patches_with_mask(image, labels, m, n_patches, mask, get_mask_condition_function(dataset))\n",
    "    elif dataset == Dataset.CHASE:\n",
    "        if mask is None:\n",
    "            raise Exception('Mask must be provided for CHASE dataset')\n",
    "        def mask_condition(mask_patch):\n",
    "            return any(any(col[0] > 0.3 for col in row) for row in mask_patch)\n",
    "        return get_patches_with_mask(image, labels, m, n_patches, mask, get_mask_condition_function(dataset))           \n",
    "    return "
   ]
  },
  {
   "cell_type": "code",
   "execution_count": 20,
   "metadata": {},
   "outputs": [],
   "source": [
    "drive_images = load_images_from_folder(DRIVE_TRAINING_IMAGES_PATH)\n",
    "drive_segmentation = load_images_from_folder(DRIVE_TRAINING_SEG_1_PATH)\n",
    "drive_mask = load_images_from_folder(DRIVE_TRAINING_MASK_PATH)\n",
    "\n",
    "stare_images = load_images_from_folder(STARE_IMAGES_PATH)\n",
    "stare_segmentation = load_images_from_folder(STARE_SEG_AH_PATH)\n",
    "\n",
    "chase_image = load_images_from_folder(CHASE_IMAGES_PATH)[0]\n",
    "chase_segmentation = load_images_from_folder(CHASE_SEG_1_PATH)[0]\n",
    "chase_mask = load_images_from_folder(CHASE_MASK_PATH)[0]\n"
   ]
  },
  {
   "cell_type": "code",
   "execution_count": 19,
   "metadata": {},
   "outputs": [],
   "source": [
    "patch_image_drive, patch_labels_drive = get_image_patches(drive_images[0], drive_segmentation[0], 200, 1, Dataset.DRIVE, drive_mask[0])\n"
   ]
  },
  {
   "cell_type": "code",
   "execution_count": 18,
   "metadata": {},
   "outputs": [
    {
     "ename": "NameError",
     "evalue": "name 'patch_images_chase' is not defined",
     "output_type": "error",
     "traceback": [
      "\u001b[0;31m---------------------------------------------------------------------------\u001b[0m",
      "\u001b[0;31mNameError\u001b[0m                                 Traceback (most recent call last)",
      "\u001b[0;32m<ipython-input-18-b39ca0da0524>\u001b[0m in \u001b[0;36m<module>\u001b[0;34m\u001b[0m\n\u001b[0;32m----> 1\u001b[0;31m \u001b[0;32mfor\u001b[0m \u001b[0;34m(\u001b[0m\u001b[0mi\u001b[0m\u001b[0;34m,\u001b[0m\u001b[0mimage\u001b[0m\u001b[0;34m)\u001b[0m \u001b[0;32min\u001b[0m \u001b[0menumerate\u001b[0m\u001b[0;34m(\u001b[0m\u001b[0mpatch_images_chase\u001b[0m\u001b[0;34m)\u001b[0m\u001b[0;34m:\u001b[0m\u001b[0;34m\u001b[0m\u001b[0m\n\u001b[0m\u001b[1;32m      2\u001b[0m     \u001b[0mfile_path\u001b[0m \u001b[0;34m=\u001b[0m \u001b[0;34m'./PatchTestImages/'\u001b[0m \u001b[0;34m+\u001b[0m \u001b[0mstr\u001b[0m\u001b[0;34m(\u001b[0m\u001b[0mi\u001b[0m\u001b[0;34m)\u001b[0m \u001b[0;34m+\u001b[0m \u001b[0;34m'.png'\u001b[0m\u001b[0;34m\u001b[0m\u001b[0m\n\u001b[1;32m      3\u001b[0m     \u001b[0msave_image\u001b[0m\u001b[0;34m(\u001b[0m\u001b[0mfile_path\u001b[0m\u001b[0;34m,\u001b[0m \u001b[0mimage\u001b[0m\u001b[0;34m)\u001b[0m\u001b[0;34m\u001b[0m\u001b[0m\n",
      "\u001b[0;31mNameError\u001b[0m: name 'patch_images_chase' is not defined"
     ]
    }
   ],
   "source": [
    "for (i,image) in enumerate(patch_images_chase):\n",
    "    file_path = './PatchTestImages/' + str(i) + '.png'\n",
    "    save_image(file_path, image)"
   ]
  },
  {
   "cell_type": "code",
   "execution_count": 17,
   "metadata": {},
   "outputs": [],
   "source": [
    "def save_image(image_path, image):\n",
    "    imsave(image_path, image)"
   ]
  },
  {
   "cell_type": "code",
   "execution_count": null,
   "metadata": {},
   "outputs": [],
   "source": [
    "def create_chase_mask(image, image_path=None):\n",
    "    from skimage.filters import threshold_li\n",
    "    from skimage.color import rgb2gray\n",
    "    im_gray = rgb2gray(image)\n",
    "    thresh_val = threshold_li(im_gray)\n",
    "    mask = np.where(im_gray > thresh_val, 1, 0)\n",
    "\n",
    "    # Make sure the larger portion of the mask is considered background\n",
    "    if np.sum(mask==0) < np.sum(mask==1):\n",
    "        mask = np.where(mask, 0, 1)\n",
    "    if image_path:    \n",
    "        save_image(image_path, mask)\n",
    "        "
   ]
  },
  {
   "cell_type": "code",
   "execution_count": null,
   "metadata": {},
   "outputs": [],
   "source": [
    "def create_stare_mask(image, image_path=None):\n",
    "    from skimage.filters import threshold_minimum\n",
    "    from skimage.color import rgb2gray\n",
    "    im_gray = rgb2gray(image)\n",
    "    thresh_val = threshold_minimum(im_gray)\n",
    "    mask = np.where(im_gray > thresh_val, 1, 0)\n",
    "    # Make sure the larger portion of the mask is considered background\n",
    "    if np.sum(mask==0) < np.sum(mask==1):\n",
    "        mask = np.where(mask, 0, 1)\n",
    "    if image_path:    \n",
    "        save_image(image_path, mask)\n",
    "    return mask\n",
    "#fig = plt.figure(figsize=(8, 8))\n",
    "for (i, image) in enumerate(stare_images):\n",
    "    create_stare_mask(image, '../../data/STARE/mask/' + str(i) + '.png')\n",
    "    #mask = create_stare_mask(image)\n",
    "    #fig.add_subplot(5,5,i + 1)\n",
    "    #plt.imshow(mask)\n",
    "    \n",
    "#plt.show()\n",
    "\n",
    "#create_stare_mask(stare_images[6])"
   ]
  },
  {
   "cell_type": "code",
   "execution_count": 24,
   "metadata": {},
   "outputs": [
    {
     "name": "stdout",
     "output_type": "stream",
     "text": [
      "NUMBER OF IMAGES 2000\n"
     ]
    }
   ],
   "source": [
    "def create_patches(images, segmentations, masks, n, patches_per_image):\n",
    "    nrOfImages = 0\n",
    "    for (i, image) in enumerate(images):\n",
    "        patch_images, patch_labels = get_image_patches(image, segmentations[i], n, patches_per_image, Dataset.DRIVE, masks[i])\n",
    "        for (j, patch) in enumerate(patch_images):\n",
    "            name = str(i) + '_' + str(j)\n",
    "            save_image('../../data/DRIVE/training/patches/' + name + '.png', patch)\n",
    "            save_image('../../data/DRIVE/training/patchLabels/' + name + '.png' , patch_labels[j])\n",
    "            nrOfImages += 1\n",
    "    print(\"NUMBER OF IMAGES\", nrOfImages)\n",
    "create_patches(drive_images, drive_segmentation, drive_mask, 32, 100)"
   ]
  },
  {
   "cell_type": "code",
   "execution_count": null,
   "metadata": {},
   "outputs": [],
   "source": [
    "def global_contrast_normalization(image, s, lmda, epsilon):\n",
    "\n",
    "    mean = np.mean(image)\n",
    "    image = image - mean\n",
    "\n",
    "    contrast = np.sqrt(lmda + np.mean(image**2))\n",
    "\n",
    "    image = s * image / max(contrast, epsilon)\n",
    "    #image = 255*(image - np.min(image))/np.ptp(image).astype(int)\n",
    "    image = (image - np.min(image))/np.ptp(image)\n",
    "\n",
    "    return image"
   ]
  },
  {
   "cell_type": "code",
   "execution_count": null,
   "metadata": {},
   "outputs": [],
   "source": [
    "image = global_contrast_normalization(patch_image_drive[0], 1,10, 1e-5)\n",
    "fig = plt.figure(figsize=(30, 30))\n",
    "fig.add_subplot(5,5,1)\n",
    "plt.imshow(patch_image_drive[0])\n",
    "fig.add_subplot(5,5,2)\n",
    "plt.imshow(image)\n",
    "plt.show()"
   ]
  },
  {
   "cell_type": "code",
   "execution_count": null,
   "metadata": {},
   "outputs": [],
   "source": [
    "def image_to_non_overlapping_patches(image, mask, m, dataset):\n",
    "    mask_condition = get_mask_condition_function(dataset)\n",
    "    patches, indexes = [], []\n",
    "    for x in range(image.shape[0]//m):\n",
    "        for y in range(image.shape[1]//m):\n",
    "            x_start = x * m\n",
    "            x_end = x_start + m\n",
    "            y_start = y * m\n",
    "            y_end = y_start + m\n",
    "            mask_patch = mask[x_start:x_end, y_start:y_end]\n",
    "            if mask_condition(mask_patch):\n",
    "                continue\n",
    "            else:\n",
    "                image_patch = image[x_start:x_end, y_start:y_end]\n",
    "                patches.append(image_patch)\n",
    "                indexes.append((x,y))\n",
    "    return patches, indexes\n",
    "                #save_image('./PatchTestImages/' + str(x) + \"_\" + str(y) + '.png',image_patch )\n",
    "        "
   ]
  },
  {
   "cell_type": "code",
   "execution_count": null,
   "metadata": {},
   "outputs": [],
   "source": [
    "patches, indexes = image_to_non_overlapping_patches(drive_images[0],drive_mask[0],32, Dataset.DRIVE)"
   ]
  },
  {
   "cell_type": "code",
   "execution_count": null,
   "metadata": {},
   "outputs": [],
   "source": [
    "def patches_to_image(patches, indexes, m, image_width, image_height):\n",
    "    image = np.zeros((image_width, image_height, 3))\n",
    "    np.set_printoptions(threshold=10)\n",
    "    for (i, (x,y)) in enumerate(indexes):\n",
    "        x_start = x * m\n",
    "        x_end = x_start + m\n",
    "        y_start = y * m\n",
    "        y_end = y_start + m\n",
    "        image[x_start:x_end, y_start:y_end] = patches[i]\n",
    "        '''\n",
    "        print('--------')\n",
    "        print(image[x_start:x_end, y_start:y_end])\n",
    "        print('--------')\n",
    "        print(patches[i])\n",
    "        return '''\n",
    "    imshow(image.astype(int))\n",
    "    \n",
    "patches_to_image(patches, indexes, 32, drive_images[0].shape[0], drive_images[0].shape[1])"
   ]
  },
  {
   "cell_type": "code",
   "execution_count": null,
   "metadata": {},
   "outputs": [],
   "source": [
    "def roc_auc(image, label, mask, dataset):\n",
    "    masked_image = []\n",
    "    masked_label = []\n",
    "    for x in range(image.shape[0]):\n",
    "        for y in range(image.shape[1]):\n",
    "            if mask[x,y] == 255:\n",
    "                masked_image.append(image[x,y])\n",
    "                masked_label.append(label[x,y])\n",
    "    \n",
    "    score = roc_auc_score(masked_label, masked_image)\n",
    "    return score\n",
    "    \n",
    "\n",
    "roc_auc(drive_segmentation[0], drive_segmentation[1], drive_mask[0], Dataset.DRIVE)\n",
    "    "
   ]
  },
  {
   "cell_type": "code",
   "execution_count": null,
   "metadata": {},
   "outputs": [],
   "source": [
    "\n",
    "    "
   ]
  },
  {
   "cell_type": "code",
   "execution_count": null,
   "metadata": {},
   "outputs": [],
   "source": []
  },
  {
   "cell_type": "code",
   "execution_count": null,
   "metadata": {},
   "outputs": [],
   "source": []
  },
  {
   "cell_type": "code",
   "execution_count": null,
   "metadata": {},
   "outputs": [],
   "source": []
  }
 ],
 "metadata": {
  "kernelspec": {
   "display_name": "RBVS",
   "language": "python",
   "name": "rbvs"
  },
  "language_info": {
   "codemirror_mode": {
    "name": "ipython",
    "version": 3
   },
   "file_extension": ".py",
   "mimetype": "text/x-python",
   "name": "python",
   "nbconvert_exporter": "python",
   "pygments_lexer": "ipython3",
   "version": "3.6.2"
  }
 },
 "nbformat": 4,
 "nbformat_minor": 2
}
