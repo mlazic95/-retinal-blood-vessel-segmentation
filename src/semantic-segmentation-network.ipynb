{
 "cells": [
  {
   "cell_type": "code",
   "execution_count": 209,
   "metadata": {},
   "outputs": [],
   "source": [
    "import keras\n",
    "import numpy as np\n",
    "import os\n",
    "import PIL\n",
    "from keras.preprocessing.image import ImageDataGenerator\n",
    "from pylab import imread, imshow\n",
    "from skimage.color import rgb2gray\n",
    "from keras.models import Model, load_model\n",
    "from keras.layers import Input, BatchNormalization, Activation, Dense, Dropout\n",
    "from keras.layers.core import Lambda, RepeatVector, Reshape\n",
    "from keras.layers.convolutional import Conv2D, Conv2DTranspose\n",
    "from keras.layers.pooling import MaxPooling2D, GlobalMaxPool2D\n",
    "from keras.layers.merge import concatenate, add\n",
    "from keras.callbacks import EarlyStopping, ModelCheckpoint, ReduceLROnPlateau\n",
    "from keras.optimizers import Adam"
   ]
  },
  {
   "cell_type": "code",
   "execution_count": 73,
   "metadata": {},
   "outputs": [],
   "source": [
    "def conv2d_block(input_tensor, n_filters, kernel_size=3, batchnorm=True):\n",
    "    # first layer\n",
    "    x = Conv2D(filters=n_filters, kernel_size=(kernel_size, kernel_size), kernel_initializer=\"he_normal\",\n",
    "               padding=\"same\")(input_tensor)\n",
    "    if batchnorm:\n",
    "        x = BatchNormalization()(x)\n",
    "        x = Activation(\"relu\")(x)\n",
    "        # second layer\n",
    "        x = Conv2D(filters=n_filters, kernel_size=(kernel_size, kernel_size), kernel_initializer=\"he_normal\",\n",
    "        padding=\"same\")(x)\n",
    "    if batchnorm:\n",
    "        x = BatchNormalization()(x)\n",
    "        x = Activation(\"relu\")(x)\n",
    "    return x"
   ]
  },
  {
   "cell_type": "code",
   "execution_count": null,
   "metadata": {},
   "outputs": [],
   "source": [
    "def get_unet(dropout, input_img):\n",
    "    inputs = input_img\n",
    "    conv1 = Conv2D(32, (3, 3), activation='relu', padding='same',data_format='channels_first')(inputs)\n",
    "    conv1 = Dropout(dropout)(conv1)\n",
    "    conv1 = Conv2D(32, (3, 3), activation='relu', padding='same',data_format='channels_first')(conv1)\n",
    "    pool1 = MaxPooling2D((2, 2))(conv1)\n",
    "    #\n",
    "    conv2 = Conv2D(64, (3, 3), activation='relu', padding='same',data_format='channels_first')(pool1)\n",
    "    conv2 = Dropout(dropout)(conv2)\n",
    "    conv2 = Conv2D(64, (3, 3), activation='relu', padding='same',data_format='channels_first')(conv2)\n",
    "    pool2 = MaxPooling2D((2, 2))(conv2)\n",
    "    #\n",
    "    conv3 = Conv2D(128, (3, 3), activation='relu', padding='same',data_format='channels_first')(pool2)\n",
    "    conv3 = Dropout(dropout)(conv3)\n",
    "    conv3 = Conv2D(128, (3, 3), activation='relu', padding='same',data_format='channels_first')(conv3)\n",
    "\n",
    "    up1 = UpSampling2D(size=(2, 2))(conv3)\n",
    "    up1 = concatenate([conv2,up1],axis=1)\n",
    "    conv4 = Conv2D(64, (3, 3), activation='relu', padding='same',data_format='channels_first')(up1)\n",
    "    conv4 = Dropout(dropout)(conv4)\n",
    "    conv4 = Conv2D(64, (3, 3), activation='relu', padding='same',data_format='channels_first')(conv4)\n",
    "    #\n",
    "    up2 = UpSampling2D(size=(2, 2))(conv4)\n",
    "    up2 = concatenate([conv1,up2], axis=1)\n",
    "    conv5 = Conv2D(32, (3, 3), activation='relu', padding='same',data_format='channels_first')(up2)\n",
    "    conv5 = Dropout(dropout)(conv5)\n",
    "    conv5 = Conv2D(32, (3, 3), activation='relu', padding='same',data_format='channels_first')(conv5)\n",
    "    #\n",
    "    conv6 = Conv2D(2, (1, 1), activation='relu',padding='same',data_format='channels_first')(conv5)\n",
    "    conv6 = core.Reshape((2,patch_height*patch_width))(conv6)\n",
    "    conv6 = core.Permute((2,1))(conv6)\n",
    "    ############\n",
    "    conv7 = core.Activation('softmax')(conv6)\n",
    "\n",
    "    model = Model(inputs=inputs, outputs=conv7)\n",
    "    return model"
   ]
  },
  {
   "cell_type": "code",
   "execution_count": 267,
   "metadata": {},
   "outputs": [],
   "source": [
    "def load_images_from_folder(folder_path):\n",
    "    file_names = os.listdir(folder_path)\n",
    "    file_names.sort()\n",
    "    images = []\n",
    "    for filename in file_names:\n",
    "        try:\n",
    "            image =imread(folder_path + filename)\n",
    "            images.append(rgb2gray(image).reshape(32,32,1))\n",
    "        except:\n",
    "            continue\n",
    "            \n",
    "    return images"
   ]
  },
  {
   "cell_type": "code",
   "execution_count": 340,
   "metadata": {},
   "outputs": [],
   "source": [
    "def train():\n",
    "    X_train = np.array(load_images_from_folder(\"../../data/DRIVE/training/patches/\"))\n",
    "    y_train = np.array(load_images_from_folder(\"../../data/DRIVE/training/patchLabels/\"))\n",
    "    input_img = Input((32,32,1))\n",
    "    model = get_unet(n_filters = 16, dropout = 0.05, input_img = input_img)\n",
    "    opt  = Adam(lr=1E-4, beta_1=0.9, beta_2=0.999, epsilon=1e-08)\n",
    "    model.compile(optimizer = opt, loss = 'binary_crossentropy')\n",
    "    model.summary()\n",
    "    aug = ImageDataGenerator(horizontal_flip = True)\n",
    "    \n",
    "    res = model.fit_generator(aug.flow(X_train, y_train, batch_size = 100),\n",
    "                              epochs = 5, steps_per_epoch = 191 )\n",
    "    return model\n",
    "    "
   ]
  },
  {
   "cell_type": "code",
   "execution_count": 341,
   "metadata": {},
   "outputs": [
    {
     "name": "stdout",
     "output_type": "stream",
     "text": [
      "__________________________________________________________________________________________________\n",
      "Layer (type)                    Output Shape         Param #     Connected to                     \n",
      "==================================================================================================\n",
      "input_42 (InputLayer)           (None, 32, 32, 1)    0                                            \n",
      "__________________________________________________________________________________________________\n",
      "conv2d_636 (Conv2D)             (None, 32, 32, 16)   160         input_42[0][0]                   \n",
      "__________________________________________________________________________________________________\n",
      "batch_normalization_605 (BatchN (None, 32, 32, 16)   64          conv2d_636[0][0]                 \n",
      "__________________________________________________________________________________________________\n",
      "activation_605 (Activation)     (None, 32, 32, 16)   0           batch_normalization_605[0][0]    \n",
      "__________________________________________________________________________________________________\n",
      "conv2d_637 (Conv2D)             (None, 32, 32, 16)   2320        activation_605[0][0]             \n",
      "__________________________________________________________________________________________________\n",
      "batch_normalization_606 (BatchN (None, 32, 32, 16)   64          conv2d_637[0][0]                 \n",
      "__________________________________________________________________________________________________\n",
      "activation_606 (Activation)     (None, 32, 32, 16)   0           batch_normalization_606[0][0]    \n",
      "__________________________________________________________________________________________________\n",
      "max_pooling2d_153 (MaxPooling2D (None, 16, 16, 16)   0           activation_606[0][0]             \n",
      "__________________________________________________________________________________________________\n",
      "dropout_265 (Dropout)           (None, 16, 16, 16)   0           max_pooling2d_153[0][0]          \n",
      "__________________________________________________________________________________________________\n",
      "conv2d_638 (Conv2D)             (None, 16, 16, 32)   4640        dropout_265[0][0]                \n",
      "__________________________________________________________________________________________________\n",
      "batch_normalization_607 (BatchN (None, 16, 16, 32)   128         conv2d_638[0][0]                 \n",
      "__________________________________________________________________________________________________\n",
      "activation_607 (Activation)     (None, 16, 16, 32)   0           batch_normalization_607[0][0]    \n",
      "__________________________________________________________________________________________________\n",
      "conv2d_639 (Conv2D)             (None, 16, 16, 32)   9248        activation_607[0][0]             \n",
      "__________________________________________________________________________________________________\n",
      "batch_normalization_608 (BatchN (None, 16, 16, 32)   128         conv2d_639[0][0]                 \n",
      "__________________________________________________________________________________________________\n",
      "activation_608 (Activation)     (None, 16, 16, 32)   0           batch_normalization_608[0][0]    \n",
      "__________________________________________________________________________________________________\n",
      "max_pooling2d_154 (MaxPooling2D (None, 8, 8, 32)     0           activation_608[0][0]             \n",
      "__________________________________________________________________________________________________\n",
      "dropout_266 (Dropout)           (None, 8, 8, 32)     0           max_pooling2d_154[0][0]          \n",
      "__________________________________________________________________________________________________\n",
      "conv2d_640 (Conv2D)             (None, 8, 8, 64)     18496       dropout_266[0][0]                \n",
      "__________________________________________________________________________________________________\n",
      "batch_normalization_609 (BatchN (None, 8, 8, 64)     256         conv2d_640[0][0]                 \n",
      "__________________________________________________________________________________________________\n",
      "activation_609 (Activation)     (None, 8, 8, 64)     0           batch_normalization_609[0][0]    \n",
      "__________________________________________________________________________________________________\n",
      "conv2d_641 (Conv2D)             (None, 8, 8, 64)     36928       activation_609[0][0]             \n",
      "__________________________________________________________________________________________________\n",
      "batch_normalization_610 (BatchN (None, 8, 8, 64)     256         conv2d_641[0][0]                 \n",
      "__________________________________________________________________________________________________\n",
      "activation_610 (Activation)     (None, 8, 8, 64)     0           batch_normalization_610[0][0]    \n",
      "__________________________________________________________________________________________________\n",
      "max_pooling2d_155 (MaxPooling2D (None, 4, 4, 64)     0           activation_610[0][0]             \n",
      "__________________________________________________________________________________________________\n",
      "dropout_267 (Dropout)           (None, 4, 4, 64)     0           max_pooling2d_155[0][0]          \n",
      "__________________________________________________________________________________________________\n",
      "conv2d_642 (Conv2D)             (None, 4, 4, 128)    73856       dropout_267[0][0]                \n",
      "__________________________________________________________________________________________________\n",
      "batch_normalization_611 (BatchN (None, 4, 4, 128)    512         conv2d_642[0][0]                 \n",
      "__________________________________________________________________________________________________\n",
      "activation_611 (Activation)     (None, 4, 4, 128)    0           batch_normalization_611[0][0]    \n",
      "__________________________________________________________________________________________________\n",
      "conv2d_643 (Conv2D)             (None, 4, 4, 128)    147584      activation_611[0][0]             \n",
      "__________________________________________________________________________________________________\n",
      "batch_normalization_612 (BatchN (None, 4, 4, 128)    512         conv2d_643[0][0]                 \n",
      "__________________________________________________________________________________________________\n",
      "activation_612 (Activation)     (None, 4, 4, 128)    0           batch_normalization_612[0][0]    \n",
      "__________________________________________________________________________________________________\n",
      "max_pooling2d_156 (MaxPooling2D (None, 2, 2, 128)    0           activation_612[0][0]             \n",
      "__________________________________________________________________________________________________\n",
      "dropout_268 (Dropout)           (None, 2, 2, 128)    0           max_pooling2d_156[0][0]          \n",
      "__________________________________________________________________________________________________\n",
      "conv2d_644 (Conv2D)             (None, 2, 2, 256)    295168      dropout_268[0][0]                \n",
      "__________________________________________________________________________________________________\n",
      "batch_normalization_613 (BatchN (None, 2, 2, 256)    1024        conv2d_644[0][0]                 \n",
      "__________________________________________________________________________________________________\n",
      "activation_613 (Activation)     (None, 2, 2, 256)    0           batch_normalization_613[0][0]    \n",
      "__________________________________________________________________________________________________\n",
      "conv2d_645 (Conv2D)             (None, 2, 2, 256)    590080      activation_613[0][0]             \n",
      "__________________________________________________________________________________________________\n",
      "batch_normalization_614 (BatchN (None, 2, 2, 256)    1024        conv2d_645[0][0]                 \n",
      "__________________________________________________________________________________________________\n",
      "activation_614 (Activation)     (None, 2, 2, 256)    0           batch_normalization_614[0][0]    \n",
      "__________________________________________________________________________________________________\n",
      "conv2d_transpose_123 (Conv2DTra (None, 4, 4, 128)    295040      activation_614[0][0]             \n",
      "__________________________________________________________________________________________________\n",
      "concatenate_123 (Concatenate)   (None, 4, 4, 256)    0           conv2d_transpose_123[0][0]       \n",
      "                                                                 activation_612[0][0]             \n",
      "__________________________________________________________________________________________________\n",
      "dropout_269 (Dropout)           (None, 4, 4, 256)    0           concatenate_123[0][0]            \n",
      "__________________________________________________________________________________________________\n",
      "conv2d_646 (Conv2D)             (None, 4, 4, 128)    295040      dropout_269[0][0]                \n",
      "__________________________________________________________________________________________________\n",
      "batch_normalization_615 (BatchN (None, 4, 4, 128)    512         conv2d_646[0][0]                 \n",
      "__________________________________________________________________________________________________\n",
      "activation_615 (Activation)     (None, 4, 4, 128)    0           batch_normalization_615[0][0]    \n",
      "__________________________________________________________________________________________________\n",
      "conv2d_647 (Conv2D)             (None, 4, 4, 128)    147584      activation_615[0][0]             \n",
      "__________________________________________________________________________________________________\n",
      "batch_normalization_616 (BatchN (None, 4, 4, 128)    512         conv2d_647[0][0]                 \n",
      "__________________________________________________________________________________________________\n",
      "activation_616 (Activation)     (None, 4, 4, 128)    0           batch_normalization_616[0][0]    \n",
      "__________________________________________________________________________________________________\n",
      "conv2d_transpose_124 (Conv2DTra (None, 8, 8, 64)     73792       activation_616[0][0]             \n",
      "__________________________________________________________________________________________________\n",
      "concatenate_124 (Concatenate)   (None, 8, 8, 128)    0           conv2d_transpose_124[0][0]       \n",
      "                                                                 activation_610[0][0]             \n",
      "__________________________________________________________________________________________________\n",
      "dropout_270 (Dropout)           (None, 8, 8, 128)    0           concatenate_124[0][0]            \n",
      "__________________________________________________________________________________________________\n",
      "conv2d_648 (Conv2D)             (None, 8, 8, 64)     73792       dropout_270[0][0]                \n",
      "__________________________________________________________________________________________________\n",
      "batch_normalization_617 (BatchN (None, 8, 8, 64)     256         conv2d_648[0][0]                 \n",
      "__________________________________________________________________________________________________\n",
      "activation_617 (Activation)     (None, 8, 8, 64)     0           batch_normalization_617[0][0]    \n",
      "__________________________________________________________________________________________________\n",
      "conv2d_649 (Conv2D)             (None, 8, 8, 64)     36928       activation_617[0][0]             \n",
      "__________________________________________________________________________________________________\n",
      "batch_normalization_618 (BatchN (None, 8, 8, 64)     256         conv2d_649[0][0]                 \n",
      "__________________________________________________________________________________________________\n",
      "activation_618 (Activation)     (None, 8, 8, 64)     0           batch_normalization_618[0][0]    \n",
      "__________________________________________________________________________________________________\n",
      "conv2d_transpose_125 (Conv2DTra (None, 16, 16, 32)   18464       activation_618[0][0]             \n",
      "__________________________________________________________________________________________________\n",
      "concatenate_125 (Concatenate)   (None, 16, 16, 64)   0           conv2d_transpose_125[0][0]       \n",
      "                                                                 activation_608[0][0]             \n",
      "__________________________________________________________________________________________________\n",
      "dropout_271 (Dropout)           (None, 16, 16, 64)   0           concatenate_125[0][0]            \n",
      "__________________________________________________________________________________________________\n",
      "conv2d_650 (Conv2D)             (None, 16, 16, 32)   18464       dropout_271[0][0]                \n",
      "__________________________________________________________________________________________________\n",
      "batch_normalization_619 (BatchN (None, 16, 16, 32)   128         conv2d_650[0][0]                 \n",
      "__________________________________________________________________________________________________\n",
      "activation_619 (Activation)     (None, 16, 16, 32)   0           batch_normalization_619[0][0]    \n",
      "__________________________________________________________________________________________________\n",
      "conv2d_651 (Conv2D)             (None, 16, 16, 32)   9248        activation_619[0][0]             \n",
      "__________________________________________________________________________________________________\n",
      "batch_normalization_620 (BatchN (None, 16, 16, 32)   128         conv2d_651[0][0]                 \n",
      "__________________________________________________________________________________________________\n",
      "activation_620 (Activation)     (None, 16, 16, 32)   0           batch_normalization_620[0][0]    \n",
      "__________________________________________________________________________________________________\n",
      "conv2d_transpose_126 (Conv2DTra (None, 32, 32, 16)   4624        activation_620[0][0]             \n",
      "__________________________________________________________________________________________________\n",
      "concatenate_126 (Concatenate)   (None, 32, 32, 32)   0           conv2d_transpose_126[0][0]       \n",
      "                                                                 activation_606[0][0]             \n",
      "__________________________________________________________________________________________________\n",
      "dropout_272 (Dropout)           (None, 32, 32, 32)   0           concatenate_126[0][0]            \n",
      "__________________________________________________________________________________________________\n",
      "conv2d_652 (Conv2D)             (None, 32, 32, 16)   4624        dropout_272[0][0]                \n",
      "__________________________________________________________________________________________________\n",
      "batch_normalization_621 (BatchN (None, 32, 32, 16)   64          conv2d_652[0][0]                 \n",
      "__________________________________________________________________________________________________\n",
      "activation_621 (Activation)     (None, 32, 32, 16)   0           batch_normalization_621[0][0]    \n",
      "__________________________________________________________________________________________________\n",
      "conv2d_653 (Conv2D)             (None, 32, 32, 16)   2320        activation_621[0][0]             \n",
      "__________________________________________________________________________________________________\n",
      "batch_normalization_622 (BatchN (None, 32, 32, 16)   64          conv2d_653[0][0]                 \n",
      "__________________________________________________________________________________________________\n",
      "activation_622 (Activation)     (None, 32, 32, 16)   0           batch_normalization_622[0][0]    \n",
      "__________________________________________________________________________________________________\n",
      "conv2d_654 (Conv2D)             (None, 32, 32, 1)    17          activation_622[0][0]             \n",
      "==================================================================================================\n",
      "Total params: 2,164,305\n",
      "Trainable params: 2,161,361\n",
      "Non-trainable params: 2,944\n",
      "__________________________________________________________________________________________________\n"
     ]
    },
    {
     "name": "stdout",
     "output_type": "stream",
     "text": [
      "Epoch 1/5\n",
      "191/191 [==============================] - 171s 896ms/step - loss: 0.6938\n",
      "Epoch 2/5\n",
      "191/191 [==============================] - 157s 823ms/step - loss: 0.5665\n",
      "Epoch 3/5\n",
      "191/191 [==============================] - 158s 826ms/step - loss: 0.5318\n",
      "Epoch 4/5\n",
      "191/191 [==============================] - 156s 815ms/step - loss: 0.5068\n",
      "Epoch 5/5\n",
      "191/191 [==============================] - 164s 860ms/step - loss: 0.4895\n"
     ]
    }
   ],
   "source": [
    "res = train()"
   ]
  },
  {
   "cell_type": "code",
   "execution_count": 294,
   "metadata": {},
   "outputs": [
    {
     "data": {
      "text/plain": [
       "0.97200817"
      ]
     },
     "execution_count": 294,
     "metadata": {},
     "output_type": "execute_result"
    }
   ],
   "source": [
    "X_train = np.array(load_images_from_folder(\"../../data/DRIVE/training/patches/\"))\n"
   ]
  },
  {
   "cell_type": "code",
   "execution_count": 380,
   "metadata": {
    "scrolled": true
   },
   "outputs": [
    {
     "data": {
      "text/plain": [
       "<matplotlib.image.AxesImage at 0x1d50d8400>"
      ]
     },
     "execution_count": 380,
     "metadata": {},
     "output_type": "execute_result"
    },
    {
     "data": {
      "image/png": "[encoded data removed]",
      "text/plain": [
       "<Figure size 432x288 with 1 Axes>"
      ]
     },
     "metadata": {
      "needs_background": "light"
     },
     "output_type": "display_data"
    }
   ],
   "source": [
    "image_nr = 666\n",
    "predict = res.predict(X_train[image_nr:(image_nr+1)])\n",
    "#predict[predict > 0.5] = 1\n",
    "#predict[predict <= 0.5] = 0\n",
    "imshow(predict.reshape((32,32)))\n"
   ]
  },
  {
   "cell_type": "code",
   "execution_count": 381,
   "metadata": {},
   "outputs": [
    {
     "data": {
      "text/plain": [
       "<matplotlib.image.AxesImage at 0x1d51b0748>"
      ]
     },
     "execution_count": 381,
     "metadata": {},
     "output_type": "execute_result"
    },
    {
     "data": {
      "image/png": "[encoded data removed]",
      "text/plain": [
       "<Figure size 432x288 with 1 Axes>"
      ]
     },
     "metadata": {
      "needs_background": "light"
     },
     "output_type": "display_data"
    }
   ],
   "source": [
    "imshow(X_train[image_nr].reshape((32,32)))"
   ]
  },
  {
   "cell_type": "code",
   "execution_count": 382,
   "metadata": {},
   "outputs": [
    {
     "data": {
      "text/plain": [
       "<matplotlib.image.AxesImage at 0x1d5a45e10>"
      ]
     },
     "execution_count": 382,
     "metadata": {},
     "output_type": "execute_result"
    },
    {
     "data": {
      "image/png": "[encoded data removed]",
      "text/plain": [
       "<Figure size 432x288 with 1 Axes>"
      ]
     },
     "metadata": {
      "needs_background": "light"
     },
     "output_type": "display_data"
    }
   ],
   "source": [
    "y_train = np.array(load_images_from_folder(\"../../data/DRIVE/training/patchLabels/\"))\n",
    "imshow(y_train[image_nr].reshape(32,32))"
   ]
  },
  {
   "cell_type": "code",
   "execution_count": null,
   "metadata": {},
   "outputs": [],
   "source": []
  },
  {
   "cell_type": "code",
   "execution_count": null,
   "metadata": {},
   "outputs": [],
   "source": []
  },
  {
   "cell_type": "code",
   "execution_count": null,
   "metadata": {},
   "outputs": [],
   "source": []
  }
 ],
 "metadata": {
  "kernelspec": {
   "display_name": "retinalSegmentationKernel",
   "language": "python",
   "name": "retinalsegmentationkernel"
  },
  "language_info": {
   "codemirror_mode": {
    "name": "ipython",
    "version": 3
   },
   "file_extension": ".py",
   "mimetype": "text/x-python",
   "name": "python",
   "nbconvert_exporter": "python",
   "pygments_lexer": "ipython3",
   "version": "3.7.0"
  }
 },
 "nbformat": 4,
 "nbformat_minor": 2
}
