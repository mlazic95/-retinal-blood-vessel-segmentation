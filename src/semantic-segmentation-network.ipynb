{
 "cells": [
  {
   "cell_type": "code",
   "execution_count": null,
   "metadata": {},
   "outputs": [],
   "source": [
    "import keras\n",
    "import numpy as np\n",
    "import os\n",
    "import PIL\n",
    "import pandas as pd\n",
    "import matplotlib.pyplot as plt\n",
    "from keras.preprocessing.image import ImageDataGenerator\n",
    "import seaborn as sns\n",
    "import helpers\n",
    "from pylab import imread, imshow\n",
    "from skimage.color import rgb2gray\n",
    "from keras.models import Model, load_model\n",
    "from keras.layers import Input, BatchNormalization, Activation, Dense, Dropout, core , UpSampling2D\n",
    "from keras.layers.core import Lambda, RepeatVector, Reshape\n",
    "from keras.layers.convolutional import Conv2D, Conv2DTranspose\n",
    "from keras.layers.pooling import MaxPooling2D, GlobalMaxPool2D\n",
    "from keras.layers.merge import concatenate, add\n",
    "from keras.callbacks import EarlyStopping, ModelCheckpoint, ReduceLROnPlateau\n",
    "from keras.optimizers import Adam\n",
    "from importlib import reload"
   ]
  },
  {
   "cell_type": "code",
   "execution_count": null,
   "metadata": {
    "scrolled": true
   },
   "outputs": [],
   "source": [
    "def get_opt():\n",
    "    #All parameters are defualt mentioned in paper\n",
    "    return Adam(lr=0.001, beta_1=0.9, beta_2=0.999, epsilon=None, decay=0.0, amsgrad=False)\n",
    "\n"
   ]
  },
  {
   "cell_type": "code",
   "execution_count": null,
   "metadata": {},
   "outputs": [],
   "source": [
    "def encoder_conv_block_batch_norm(inputs, n_filters, dropout, kernel_size=3, batchNorm = True):\n",
    "    net = Conv2D(filters=n_filters, kernel_size=(kernel_size, kernel_size), kernel_initializer=\"he_normal\",\n",
    "               padding=\"same\")(inputs)\n",
    "    if batchNorm:\n",
    "        net = BatchNormalization()(net)\n",
    "    net = Activation(\"relu\")(net)\n",
    "        # second layer\n",
    "    net = Dropout(dropout)(net)\n",
    "    net = Conv2D(filters=n_filters, kernel_size=(kernel_size, kernel_size), kernel_initializer=\"he_normal\", padding=\"same\")(net)\n",
    "    if batchNorm:\n",
    "        net = BatchNormalization()(net)\n",
    "    net = Activation(\"relu\")(net)\n",
    "    return net"
   ]
  },
  {
   "cell_type": "code",
   "execution_count": null,
   "metadata": {},
   "outputs": [],
   "source": [
    "def conv2d_block(input_tensor, n_filters, kernel_size=3, batchnorm=True):\n",
    "    # first layer\n",
    "    x = Conv2D(filters=n_filters, kernel_size=(kernel_size, kernel_size), kernel_initializer=\"he_normal\",\n",
    "               padding=\"same\")(input_tensor)\n",
    "    if batchnorm:\n",
    "        x = BatchNormalization()(x)\n",
    "        x = Activation(\"relu\")(x)\n",
    "        # second layer\n",
    "        x = Conv2D(filters=n_filters, kernel_size=(kernel_size, kernel_size), kernel_initializer=\"he_normal\",\n",
    "        padding=\"same\")(x)\n",
    "    if batchnorm:\n",
    "        x = BatchNormalization()(x)\n",
    "        x = Activation(\"relu\")(x)\n",
    "    return x"
   ]
  },
  {
   "cell_type": "code",
   "execution_count": null,
   "metadata": {},
   "outputs": [],
   "source": [
    "def get_unet_3(dropout, input_img):\n",
    "    inputs = input_img\n",
    "    patch_size = 32\n",
    "    conv1 = Conv2D(32, (3, 3), activation='relu', padding='same',data_format='channels_last')(inputs)\n",
    "    conv1 = Dropout(dropout)(conv1)\n",
    "    conv1 = Conv2D(32, (3, 3), activation='relu', padding='same',data_format='channels_last')(conv1)\n",
    "    pool1 = MaxPooling2D((2, 2))(conv1)\n",
    "    #\n",
    "    conv2 = Conv2D(64, (3, 3), activation='relu', padding='same',data_format='channels_last')(pool1)\n",
    "    conv2 = Dropout(dropout)(conv2)\n",
    "    conv2 = Conv2D(64, (3, 3), activation='relu', padding='same',data_format='channels_last')(conv2)\n",
    "    pool2 = MaxPooling2D((2, 2))(conv2)\n",
    "    #\n",
    "    conv3 = Conv2D(128, (3, 3), activation='relu', padding='same',data_format='channels_last')(pool2)\n",
    "    conv3 = Dropout(dropout)(conv3)\n",
    "    conv3 = Conv2D(128, (3, 3), activation='relu', padding='same',data_format='channels_last')(conv3)\n",
    "\n",
    "    up1 = UpSampling2D(size=(2, 2))(conv3)\n",
    "    up1 = concatenate([conv2,up1])\n",
    "    conv4 = Conv2D(64, (3, 3), activation='relu', padding='same',data_format='channels_last')(up1)\n",
    "    conv4 = Dropout(dropout)(conv4)\n",
    "    conv4 = Conv2D(64, (3, 3), activation='relu', padding='same',data_format='channels_last')(conv4)\n",
    "    #\n",
    "    up2 = UpSampling2D(size=(2, 2))(conv4)\n",
    "    up2 = concatenate([conv1,up2])\n",
    "    conv5 = Conv2D(32, (3, 3), activation='relu', padding='same',data_format='channels_last')(up2)\n",
    "    conv5 = Dropout(dropout)(conv5)\n",
    "    conv5 = Conv2D(32, (3, 3), activation='relu', padding='same',data_format='channels_last')(conv5)\n",
    "    #\n",
    "    conv6 = Conv2D(2, (1, 1), activation='relu',padding='same',data_format='channels_last')(conv5)\n",
    "    conv6 = core.Reshape((2,32*32))(conv6)\n",
    "    conv6 = core.Permute((2,1))(conv6)\n",
    "    ############\n",
    "    conv7 = core.Activation('softmax')(conv6)\n",
    "\n",
    "    model = Model(inputs=inputs, outputs=conv7)\n",
    "    opt  = Adam(lr=1E-4, beta_1=0.9, beta_2=0.999, epsilon=1e-08)\n",
    "    model.compile(optimizer = opt, loss = 'binary_crossentropy')\n",
    "    return model"
   ]
  },
  {
   "cell_type": "code",
   "execution_count": null,
   "metadata": {},
   "outputs": [],
   "source": [
    "def unet_gen(dropout, input_img, transposedConv, n_filters = 32):\n",
    "    inputs = input_img\n",
    "    patch_size = 32\n",
    "    block1 = encoder_conv_block_batch_norm(inputs, n_filters =n_filters,\n",
    "                                  kernel_size=3, dropout = dropout*0.5)\n",
    "    pool1 = MaxPooling2D((2, 2))(block1)\n",
    "    #conv1 = Conv2D(32, (3, 3), activation='relu', padding='same',data_format='channels_last')(inputs)\n",
    "    #conv1 = Dropout(dropout)(conv1)\n",
    "    #conv1 = Conv2D(32, (3, 3), activation='relu', padding='same',data_format='channels_last')(conv1)\n",
    "    #pool1 = MaxPooling2D((2, 2))(conv1)\n",
    "    #\n",
    "    block2 = encoder_conv_block_batch_norm(pool1, n_filters = n_filters*2,\n",
    "                                  kernel_size=3, dropout = dropout)\n",
    "    pool2 = MaxPooling2D((2, 2))(block2) \n",
    "    #conv2 = Conv2D(64, (3, 3), activation='relu', padding='same',data_format='channels_last')(pool1)\n",
    "    #conv2 = Dropout(dropout)(conv2)\n",
    "    #conv2 = Conv2D(64, (3, 3), activation='relu', padding='same',data_format='channels_last')(conv2)\n",
    "    #pool2 = MaxPooling2D((2, 2))(conv2)\n",
    "    #\n",
    "    bridge = encoder_conv_block_batch_norm(pool2, n_filters = n_filters*4,\n",
    "                                  kernel_size=3, dropout = dropout)\n",
    "    \n",
    "    #conv3 = Conv2D(128, (3, 3), activation='relu', padding='same',data_format='channels_last')(pool2)\n",
    "    #conv3 = Dropout(dropout)(conv3)\n",
    "    #conv3 = Conv2D(128, (3, 3), activation='relu', padding='same',data_format='channels_last')(conv3)\n",
    "    up1 = bridge\n",
    "    if transposedConv:\n",
    "        up1 = Conv2DTranspose(n_filters*4, (3, 3), strides=(2, 2), padding='same') (up1)\n",
    "    else:\n",
    "        up1 = UpSampling2D(size=(2, 2))(up1)\n",
    "    up1 = concatenate([block2,up1])\n",
    "    up_block2 = encoder_conv_block_batch_norm(up1, n_filters = n_filters*2,\n",
    "                                  kernel_size=3, dropout= dropout)\n",
    "    \n",
    "    #conv4 = Conv2D(64, (3, 3), activation='relu', padding='same',data_format='channels_last')(up1)\n",
    "    #conv4 = Dropout(dropout)(conv4)\n",
    "    #conv4 = Conv2D(64, (3, 3), activation='relu', padding='same',data_format='channels_last')(conv4)\n",
    "    #\n",
    "    up2 = up_block2\n",
    "    if transposedConv:\n",
    "        up2 = Conv2DTranspose(n_filters*2, (3, 3), strides=(2, 2), padding='same') (up2)\n",
    "    else:\n",
    "        up2 = UpSampling2D(size=(2, 2))(up2)\n",
    "    up2 = concatenate([block1,up2])\n",
    "    up_block1 = encoder_conv_block_batch_norm(up2, n_filters = n_filters,\n",
    "                                  kernel_size=3, dropout = dropout)\n",
    "    #conv5 = Conv2D(32, (3, 3), activation='relu', padding='same',data_format='channels_last')(up2)\n",
    "    #conv5 = Dropout(dropout)(conv5)\n",
    "    #conv5 = Conv2D(32, (3, 3), activation='relu', padding='same',data_format='channels_last')(conv5)\n",
    "    #\n",
    "    outputs = Conv2D(1, (1, 1), activation='sigmoid',padding='same')(up_block1)\n",
    "    #conv6 = core.Reshape((2,32*32))(conv6)\n",
    "    #conv6 = core.Permute((2,1))(conv6)\n",
    "    ############\n",
    "    #conv7 = core.Activation('softmax')(conv6)\n",
    "    opt = get_opt()\n",
    "    model = Model(inputs=inputs, outputs=outputs)\n",
    "    model.compile(optimizer = opt, loss = 'binary_crossentropy')\n",
    "    return model"
   ]
  },
  {
   "cell_type": "code",
   "execution_count": null,
   "metadata": {},
   "outputs": [],
   "source": [
    "def get_transp_conv_unet(dropout, input_img):\n",
    "    return unet_gen(dropout = dropout, input_img = input_img, transposedConv = True)"
   ]
  },
  {
   "cell_type": "code",
   "execution_count": null,
   "metadata": {},
   "outputs": [],
   "source": [
    "def get_up_sample_unet(dropout, input_img):\n",
    "    return unet_gen(dropout = dropout, input_img = input_img, transposedConv = False)"
   ]
  },
  {
   "cell_type": "code",
   "execution_count": null,
   "metadata": {},
   "outputs": [],
   "source": [
    "def get_unet_seismic(input_img, dropout, n_filters=16, batchnorm=True):\n",
    "    # contracting path\n",
    "    print(\"SEISMIC UNET\")\n",
    "    c1 = conv2d_block(input_img, n_filters=n_filters*1, kernel_size=3, batchnorm=batchnorm)\n",
    "    p1 = MaxPooling2D((2, 2)) (c1)\n",
    "    p1 = Dropout(dropout)(p1)\n",
    "    c2 = conv2d_block(p1, n_filters=n_filters*2, kernel_size=3, batchnorm=batchnorm)\n",
    "    p2 = MaxPooling2D((2, 2)) (c2)\n",
    "    p2 = Dropout(dropout)(p2)\n",
    "    c3 = conv2d_block(p2, n_filters=n_filters*4, kernel_size=3, batchnorm=batchnorm)\n",
    "    p3 = MaxPooling2D((2, 2)) (c3)\n",
    "    p3 = Dropout(dropout)(p3)\n",
    "    c4 = conv2d_block(p3, n_filters=n_filters*8, kernel_size=3, batchnorm=batchnorm)\n",
    "    p4 = MaxPooling2D(pool_size=(2, 2)) (c4)\n",
    "    p4 = Dropout(dropout)(p4)\n",
    "    c5 = conv2d_block(p4, n_filters=n_filters*16, kernel_size=3, batchnorm=batchnorm)\n",
    "    # expansive path\n",
    "    u6 = Conv2DTranspose(n_filters*8, (3, 3), strides=(2, 2), padding='same') (c5)\n",
    "    u6 = concatenate([u6, c4])\n",
    "    u6 = Dropout(dropout)(u6)\n",
    "    c6 = conv2d_block(u6, n_filters=n_filters*8, kernel_size=3, batchnorm=batchnorm)\n",
    "    u7 = Conv2DTranspose(n_filters*4, (3, 3), strides=(2, 2), padding='same') (c6)\n",
    "    u7 = concatenate([u7, c3])\n",
    "    u7 = Dropout(dropout)(u7)\n",
    "    c7 = conv2d_block(u7, n_filters=n_filters*4, kernel_size=3, batchnorm=batchnorm)\n",
    "    u8 = Conv2DTranspose(n_filters*2, (3, 3), strides=(2, 2), padding='same') (c7)\n",
    "    u8 = concatenate([u8, c2])\n",
    "    u8 = Dropout(dropout)(u8)\n",
    "    c8 = conv2d_block(u8, n_filters=n_filters*2, kernel_size=3, batchnorm=batchnorm)\n",
    "    u9 = Conv2DTranspose(n_filters*1, (3, 3), strides=(2, 2), padding='same') (c8)\n",
    "    u9 = concatenate([u9, c1], axis=3)\n",
    "    u9 = Dropout(dropout)(u9)\n",
    "    c9 = conv2d_block(u9, n_filters=n_filters*1, kernel_size=3, batchnorm=batchnorm)\n",
    "    outputs = Conv2D(1, (1, 1), activation='sigmoid') (c9)\n",
    "    model = Model(inputs=[input_img], outputs=[outputs])\n",
    "    opt  = get_opt()\n",
    "    model.compile(optimizer = opt, loss = 'binary_crossentropy')\n",
    "    return model"
   ]
  },
  {
   "cell_type": "code",
   "execution_count": null,
   "metadata": {},
   "outputs": [],
   "source": [
    "def load_images_from_folder(folder_path):\n",
    "    file_names = os.listdir(folder_path)\n",
    "    file_names.sort()\n",
    "    images = []\n",
    "    for filename in file_names:\n",
    "        try:\n",
    "            image =imread(folder_path + filename)\n",
    "            images.append(rgb2gray(image).reshape(32,32,1))\n",
    "        except:\n",
    "            continue\n",
    "    return images"
   ]
  },
  {
   "cell_type": "code",
   "execution_count": null,
   "metadata": {},
   "outputs": [],
   "source": [
    "def generator(x_train, y_train, batch_size):\n",
    "    data_gen = ImageDataGenerator(\n",
    "        horizontal_flip = True, vertical_flip = True,\n",
    "    ).flow(x_train, x_train, batch_size, seed=1)\n",
    "    mask_gen = ImageDataGenerator(\n",
    "        horizontal_flip = True, vertical_flip = True\n",
    "    ).flow(y_train, y_train, batch_size, seed=1)\n",
    "    while True:\n",
    "        x_batch, _ = data_gen.next()\n",
    "        y_batch, _ = mask_gen.next()\n",
    "        yield x_batch, y_batch"
   ]
  },
  {
   "cell_type": "markdown",
   "metadata": {},
   "source": [
    "## Test data augmentation function"
   ]
  },
  {
   "cell_type": "code",
   "execution_count": null,
   "metadata": {},
   "outputs": [],
   "source": [
    "\n",
    "X_train = np.array(load_images_from_folder(\"../../data/DRIVE/training/patches/\"))\n",
    "y_train = np.array(load_images_from_folder(\"../../data/DRIVE/training/patchLabels/\"))\n",
    "image_batch, mask_batch = next(generator(X_train, y_train, 8))\n",
    "fix, ax = plt.subplots(8,2, figsize=(8,20))\n",
    "for i in range(8):\n",
    "    ax[i,0].imshow(image_batch[i,:,:,0])\n",
    "    ax[i,1].imshow(mask_batch[i,:,:,0])\n",
    "plt.show()"
   ]
  },
  {
   "cell_type": "code",
   "execution_count": null,
   "metadata": {},
   "outputs": [],
   "source": [
    "def train(epochs, n_folds, model_dict, saveModel = False):\n",
    "    X = np.array(load_images_from_folder(\"../../data/DRIVE/training/patches/\"))\n",
    "    y = np.array(load_images_from_folder(\"../../data/DRIVE/training/patchLabels/\"))\n",
    "    load_model = model_dict['load_model']\n",
    "    args = model_dict['args']\n",
    "    model = load_model(**args)\n",
    "    batch_size = 32\n",
    "    historyList =[]\n",
    "    pathToSaveModel = \"../../savedModels/\"\n",
    "    if saveModel:\n",
    "        #if we cant save then we crash here\n",
    "        model.save(pathToSaveModel + \"test.h5\")\n",
    "    if n_folds > 0:\n",
    "        if (len(X) % n_folds) != 0:\n",
    "            raise Exception('Same eye in validation and traning set, Patches: ', X_train.shape[1], ' Folds', n_folds)\n",
    "        sizeFold = len(X) // n_folds\n",
    "        fold_idx = []\n",
    "        for fold in range(n_folds):\n",
    "            for curIdx in range(sizeFold):\n",
    "                fold_idx.append(fold)\n",
    "        fold_idx = np.array(fold_idx)\n",
    "    \n",
    "        for fold in range(n_folds):\n",
    "            train_idx = fold_idx != fold\n",
    "            test_idx = fold_idx == fold\n",
    "            X_train = X[train_idx]\n",
    "            y_train = y[train_idx]\n",
    "            X_test = X[test_idx]\n",
    "            y_test = y[test_idx]\n",
    "            history = model.fit_generator(generator(X_train, y_train, batch_size = batch_size),\n",
    "                                  epochs = epochs, steps_per_epoch = len(X_train)//batch_size,\n",
    "                                         validation_data = (X_test,y_test))\n",
    "            historyList.append(history)\n",
    "    elif saveModel or (n_folds == 0): \n",
    "        model.save(pathToSaveModel+model_dict['name']+\".h5\")\n",
    "        history = model.fit_generator(generator(X, y, batch_size = batch_size),\n",
    "                                      epochs = epochs, steps_per_epoch = len(X)//batch_size)\n",
    "        historyList.append(history)\n",
    "    return model, historyList\n",
    "    "
   ]
  },
  {
   "cell_type": "markdown",
   "metadata": {},
   "source": [
    "## Train model on the full data set, no cross validation"
   ]
  },
  {
   "cell_type": "code",
   "execution_count": null,
   "metadata": {},
   "outputs": [],
   "source": [
    "args1 = {'input_img' : Input((32,32,1)), 'dropout' : 0.05}\n",
    "model_dict = {'load_model' : get_transp_conv_unet, 'args' : args1, 'name' : 'myFirstModel'}\n",
    "res, historyList = train(epochs = 1, n_folds = 0, model_dict = model_dict, saveModel = True)\n"
   ]
  },
  {
   "cell_type": "markdown",
   "metadata": {},
   "source": [
    "## Compare n models with different parameters"
   ]
  },
  {
   "cell_type": "code",
   "execution_count": null,
   "metadata": {},
   "outputs": [],
   "source": [
    "epochs = 100\n",
    "model_name = [\"TranspConv\", \"Seismic\", \"UpSample\"]\n",
    "\n",
    "load_model = [get_transp_conv_unet, get_unet_seismic, get_up_sample_unet]\n",
    "\n",
    "dropouts = [0, 0.05, 0.1, 0.2, 0.3, 0.4]\n",
    "\n",
    "\n",
    "model_dicts = []\n",
    "for dropout in dropouts:\n",
    "    for model_idx in range(len(model_name)):\n",
    "        arg = {}\n",
    "        arg['dropout'] = dropout\n",
    "        arg['input_img'] = Input((32,32,1))\n",
    "        model_dict = {}\n",
    "        model_dict['load_model'] = load_model[model_idx]\n",
    "        model_dict['args'] = arg\n",
    "        model_dict['name'] = model_name[model_idx] + str(dropout)\n",
    "        model_dicts.append(model_dict)\n",
    "\n",
    "\n",
    "models = []\n",
    "historyLists =[]\n",
    "for model_dict in model_dicts:\n",
    "    print(model_dict['name'])\n",
    "    res, historyList = train(epochs = epochs, n_folds = 5, model_dict = model_dict)\n",
    "    models.append(res)\n",
    "    historyLists.append(historyList)"
   ]
  },
  {
   "cell_type": "code",
   "execution_count": null,
   "metadata": {},
   "outputs": [],
   "source": [
    "def plotMultipleModels(full_model_history_df):\n",
    "    plt.style.use('ggplot')\n",
    "    ax = sns.lineplot(x=\"epochs\", y=\"loss\", style=\"type\", hue= 'model', data=full_model_history_df)\n",
    "    legend = ax.legend()\n",
    "    handles, labels = ax.get_legend_handles_labels()\n",
    "    ax.legend(handles=handles[1:], labels=labels[1:])\n",
    "    %config InlineBackend.figure_format = 'retina'\n",
    "    plt.show()"
   ]
  },
  {
   "cell_type": "code",
   "execution_count": 39,
   "metadata": {},
   "outputs": [],
   "source": [
    "def plotComparisonOfModels( historyLists, model_dicts):\n",
    "    full_model_history_df = pd.DataFrame()\n",
    "    for cur_model_nr in range(len(model_dicts)):\n",
    "        loss_data = ([i.history['loss'] for i in historyLists[cur_model_nr]])\n",
    "        val_loss_data = ([i.history['val_loss'] for i in historyLists[cur_model_nr]])\n",
    "        all_data = loss_data + val_loss_data\n",
    "        all_data.append( [i+1 for i in range(epochs)])\n",
    "        model_history_df = pd.DataFrame(all_data).T\n",
    "        column_names = []\n",
    "        foldLossName = []\n",
    "        for i in range(len(loss_data)):\n",
    "            foldLossName.append(\"fold\"+str(i)+\"_loss\")\n",
    "        column_names += foldLossName\n",
    "        foldValLossName = []\n",
    "        for i in range(len(val_loss_data)):\n",
    "            foldValLossName.append(\"fold\"+str(i)+\"val_loss\")\n",
    "        column_names += foldValLossName\n",
    "        column_names.append('epochs')\n",
    "        model_history_df.columns=column_names\n",
    "        model_history_df[\"model\"] = model_dicts[cur_model_nr]['name']\n",
    "        #plt.plot(history.history['loss'])\n",
    "        #plt.plot(history.history['val_loss'])\n",
    "        #plt.xlabel(\"epoch\")\n",
    "        #plt.ylabel(\"loss\")\n",
    "        #plt.show()\n",
    "        model_history_df = pd.melt(model_history_df, value_vars=foldLossName+ foldValLossName,\n",
    "                                   id_vars = ['epochs','model'] ,value_name = \"loss\")\n",
    "        types = ['train', 'validation']\n",
    "        trainOrValidation = []\n",
    "        for i in types:\n",
    "            for j in range(model_history_df.shape[0]//2):\n",
    "                trainOrValidation.append(i)\n",
    "        model_history_df['type'] =trainOrValidation\n",
    "        model_history_df = model_history_df.astype({'epochs': int})\n",
    "        full_model_history_df = pd.concat([full_model_history_df, model_history_df], ignore_index = True)\n",
    "    full_model_history_df.to_pickle(\"fullModelHistorydf.pkl\")\n",
    "    plotMultipleModels(full_model_history_df)\n"
   ]
  },
  {
   "cell_type": "code",
   "execution_count": 40,
   "metadata": {},
   "outputs": [
    {
     "data": {
      "image/png": "[encoded data removed]",
      "text/plain": [
       "<Figure size 432x288 with 1 Axes>"
      ]
     },
     "metadata": {
      "image/png": {
       "height": 266,
       "width": 396
      }
     },
     "output_type": "display_data"
    }
   ],
   "source": [
    "plotComparisonOfModels(historyLists, model_dicts)"
   ]
  },
  {
   "cell_type": "code",
   "execution_count": null,
   "metadata": {
    "scrolled": true
   },
   "outputs": [],
   "source": [
    "nr_of_images = 10\n",
    "fig, ax = plt.subplots(nr_of_images,4, figsize=(8,20))\n",
    "fig.tight_layout()\n",
    "for image_nr in range(nr_of_images):\n",
    "    ax[image_nr,0].imshow(X_train[image_nr].reshape(32,32))\n",
    "    ax[image_nr,1].imshow(y_train[image_nr].reshape(32,32))\n",
    "    y_pred = res.predict(X_train[image_nr:(image_nr+1)]).reshape(32,32)\n",
    "    y_pred_thr = y_pred.copy()\n",
    "    y_pred_thr[y_pred > 0.5] = 1\n",
    "    y_pred_thr[y_pred <= 0.5] = 0\n",
    "    ax[image_nr,2].imshow(y_pred)\n",
    "    ax[image_nr,3].imshow(y_pred_thr)\n",
    "    for j in range(4):\n",
    "        ax[image_nr,j].set_xticklabels([])\n",
    "        ax[image_nr,j].set_yticklabels([])\n",
    "plt.show()\n",
    "\n"
   ]
  },
  {
   "cell_type": "code",
   "execution_count": null,
   "metadata": {},
   "outputs": [],
   "source": [
    "drive_images = helpers.load_images_from_folder(helpers.DRIVE_TEST_IMAGES_PATH)\n",
    "drive_mask = helpers.load_images_from_folder(helpers.DRIVE_TEST_MASK_PATH)\n",
    "drive_segmented = helpers.load_images_from_folder(helpers.DRIVE_TEST_SEG_1_PATH)"
   ]
  },
  {
   "cell_type": "code",
   "execution_count": null,
   "metadata": {},
   "outputs": [],
   "source": [
    "image_segmentation = helpers.segment_image(drive_images[0], drive_mask[0], res, 32, helpers.Dataset.DRIVE)\n",
    "full_image_segmentation = helpers.segment_whole_image(drive_images[0], drive_mask[0], 32, helpers.Dataset.DRIVE, res)\n",
    "fig, ax = plt.subplots(1,4, figsize=(20,20))\n",
    "ax[0].imshow(full_image_segmentation)\n",
    "ax[1].imshow(image_segmentation)\n",
    "ax[2].imshow(drive_segmented[0])\n",
    "ax[3].imshow(helpers.histogram_equalization(drive_images[0]))\n",
    "\n",
    "plt.show()"
   ]
  },
  {
   "cell_type": "code",
   "execution_count": null,
   "metadata": {},
   "outputs": [],
   "source": [
    "\n",
    "    "
   ]
  },
  {
   "cell_type": "code",
   "execution_count": null,
   "metadata": {},
   "outputs": [],
   "source": []
  }
 ],
 "metadata": {
  "kernelspec": {
   "display_name": "retinalSegmentationKernel",
   "language": "python",
   "name": "retinalsegmentationkernel"
  },
  "language_info": {
   "codemirror_mode": {
    "name": "ipython",
    "version": 3
   },
   "file_extension": ".py",
   "mimetype": "text/x-python",
   "name": "python",
   "nbconvert_exporter": "python",
   "pygments_lexer": "ipython3",
   "version": "3.7.0"
  }
 },
 "nbformat": 4,
 "nbformat_minor": 2
}
