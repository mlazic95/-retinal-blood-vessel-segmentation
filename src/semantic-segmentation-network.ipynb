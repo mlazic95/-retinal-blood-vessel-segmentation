{
 "cells": [
  {
   "cell_type": "code",
   "execution_count": 11,
   "metadata": {},
   "outputs": [],
   "source": [
    "import keras\n",
    "import numpy as np\n",
    "import os\n",
    "import PIL\n",
    "import pandas as pd\n",
    "import matplotlib.pyplot as plt\n",
    "from keras.preprocessing.image import ImageDataGenerator\n",
    "import seaborn as sns\n",
    "import helpers\n",
    "from pylab import imread, imshow\n",
    "from skimage.color import rgb2gray\n",
    "from keras.models import Model, load_model\n",
    "from keras.layers import Input, BatchNormalization, Activation, Dense, Dropout, core , UpSampling2D\n",
    "from keras.layers.core import Lambda, RepeatVector, Reshape\n",
    "from keras.layers.convolutional import Conv2D, Conv2DTranspose\n",
    "from keras.layers.pooling import MaxPooling2D, GlobalMaxPool2D\n",
    "from keras.layers.merge import concatenate, add\n",
    "from keras.callbacks import EarlyStopping, ModelCheckpoint, ReduceLROnPlateau\n",
    "from keras.optimizers import Adam\n",
    "from importlib import reload\n",
    "helpers = reload(helpers)"
   ]
  },
  {
   "cell_type": "code",
   "execution_count": 12,
   "metadata": {
    "scrolled": true
   },
   "outputs": [],
   "source": [
    "def get_opt():\n",
    "    #All parameters are defualt mentioned in paper\n",
    "    return Adam(lr=0.001, beta_1=0.9, beta_2=0.999, epsilon=None, decay=0.0, amsgrad=False)\n",
    "\n"
   ]
  },
  {
   "cell_type": "code",
   "execution_count": 13,
   "metadata": {},
   "outputs": [],
   "source": [
    "def encoder_conv_block_batch_norm(inputs, n_filters, dropout, kernel_size=3):\n",
    "    net = Conv2D(filters=n_filters, kernel_size=(kernel_size, kernel_size), kernel_initializer=\"he_normal\",\n",
    "               padding=\"same\", activation = 'relu')(inputs)\n",
    "    net = BatchNormalization()(net)\n",
    "    net = Dropout(dropout)(net)\n",
    "    net = Conv2D(filters=n_filters, kernel_size=(kernel_size, kernel_size), activation = 'relu', kernel_initializer=\"he_normal\", padding=\"same\")(net)\n",
    "    net = BatchNormalization()(net)\n",
    "    return net"
   ]
  },
  {
   "cell_type": "code",
   "execution_count": 35,
   "metadata": {},
   "outputs": [],
   "source": [
    "def unet_gen(dropout, input_img, transposedConv, n_filters = 32):\n",
    "    inputs = input_img\n",
    "    patch_size = 32\n",
    "    block1 = encoder_conv_block_batch_norm(inputs, n_filters =n_filters,\n",
    "                                  kernel_size=3, dropout = dropout*0.5)\n",
    "    pool1 = MaxPooling2D((2, 2))(block1)\n",
    "    #conv1 = Conv2D(32, (3, 3), activation='relu', padding='same',data_format='channels_last')(inputs)\n",
    "    #conv1 = Dropout(dropout)(conv1)\n",
    "    #conv1 = Conv2D(32, (3, 3), activation='relu', padding='same',data_format='channels_last')(conv1)\n",
    "    #pool1 = MaxPooling2D((2, 2))(conv1)\n",
    "    #\n",
    "    block2 = encoder_conv_block_batch_norm(pool1, n_filters = n_filters*2,\n",
    "                                  kernel_size=3, dropout = dropout)\n",
    "    pool2 = MaxPooling2D((2, 2))(block2) \n",
    "    #conv2 = Conv2D(64, (3, 3), activation='relu', padding='same',data_format='channels_last')(pool1)\n",
    "    #conv2 = Dropout(dropout)(conv2)\n",
    "    #conv2 = Conv2D(64, (3, 3), activation='relu', padding='same',data_format='channels_last')(conv2)\n",
    "    #pool2 = MaxPooling2D((2, 2))(conv2)\n",
    "    #\n",
    "    bridge = encoder_conv_block_batch_norm(pool2, n_filters = n_filters*4,\n",
    "                                  kernel_size=3, dropout = dropout)\n",
    "    \n",
    "    #conv3 = Conv2D(128, (3, 3), activation='relu', padding='same',data_format='channels_last')(pool2)\n",
    "    #conv3 = Dropout(dropout)(conv3)\n",
    "    #conv3 = Conv2D(128, (3, 3), activation='relu', padding='same',data_format='channels_last')(conv3)\n",
    "    up1 = bridge\n",
    "    if transposedConv:\n",
    "        up1 = Conv2DTranspose(n_filters*4, (3, 3), strides=(2, 2), padding='same') (up1)\n",
    "    else:\n",
    "        up1 = UpSampling2D(size=(2, 2))(up1)\n",
    "    up1 = concatenate([block2,up1])\n",
    "    up_block2 = encoder_conv_block_batch_norm(up1, n_filters = n_filters*2,\n",
    "                                  kernel_size=3, dropout= dropout)\n",
    "    \n",
    "    #conv4 = Conv2D(64, (3, 3), activation='relu', padding='same',data_format='channels_last')(up1)\n",
    "    #conv4 = Dropout(dropout)(conv4)\n",
    "    #conv4 = Conv2D(64, (3, 3), activation='relu', padding='same',data_format='channels_last')(conv4)\n",
    "    #\n",
    "    up2 = up_block2\n",
    "    if transposedConv:\n",
    "        up2 = Conv2DTranspose(n_filters*2, (3, 3), strides=(2, 2), padding='same') (up2)\n",
    "    else:\n",
    "        up2 = UpSampling2D(size=(2, 2))(up2)\n",
    "    up2 = concatenate([block1,up2])\n",
    "    up_block1 = encoder_conv_block_batch_norm(up2, n_filters = n_filters,\n",
    "                                  kernel_size=3, dropout = dropout)\n",
    "    #conv5 = Conv2D(32, (3, 3), activation='relu', padding='same',data_format='channels_last')(up2)\n",
    "    #conv5 = Dropout(dropout)(conv5)\n",
    "    #conv5 = Conv2D(32, (3, 3), activation='relu', padding='same',data_format='channels_last')(conv5)\n",
    "    #\n",
    "    outputs = Conv2D(1, (1, 1), activation='sigmoid',padding='same')(up_block1)\n",
    "    #conv6 = core.Reshape((2,32*32))(conv6)\n",
    "    #conv6 = core.Permute((2,1))(conv6)\n",
    "    ############\n",
    "    #conv7 = core.Activation('softmax')(conv6)\n",
    "    opt = get_opt()\n",
    "    model = Model(inputs=inputs, outputs=outputs)\n",
    "    model.compile(optimizer = opt, loss = 'binary_crossentropy')\n",
    "    return model"
   ]
  },
  {
   "cell_type": "code",
   "execution_count": 36,
   "metadata": {},
   "outputs": [],
   "source": [
    "def get_transp_conv_unet(dropout, input_img):\n",
    "    return unet_gen(dropout = dropout, input_img = input_img, transposedConv = True)"
   ]
  },
  {
   "cell_type": "code",
   "execution_count": 37,
   "metadata": {},
   "outputs": [],
   "source": [
    "def get_up_sample_unet(dropout, input_img):\n",
    "    return unet_gen(dropout = dropout, input_img = input_img, transposedConv = False)"
   ]
  },
  {
   "cell_type": "code",
   "execution_count": 141,
   "metadata": {},
   "outputs": [],
   "source": [
    "def get_transp_conv_big_unet(input_img, dropout, n_filters=16):\n",
    "    inputs = input_img\n",
    "    block1 = encoder_conv_block_batch_norm(inputs = inputs, n_filters=n_filters*1, dropout = dropout, kernel_size = 3)\n",
    "    print(\"block1\", block1.shape)\n",
    "    pool1 = MaxPooling2D((2, 2)) (block1)\n",
    "    \n",
    "    block2 = encoder_conv_block_batch_norm(inputs = pool1, n_filters=n_filters*2, dropout = dropout, kernel_size = 3)\n",
    "    pool2 = MaxPooling2D((2, 2)) (block2)\n",
    "    print(\"block2\", block2.shape)\n",
    "\n",
    "\n",
    "    block3 = encoder_conv_block_batch_norm(inputs = pool2, n_filters=n_filters*4, dropout = dropout, kernel_size = 3)\n",
    "    pool3 = MaxPooling2D((2, 2)) (block3)\n",
    "    print(\"block3\", block3.shape)\n",
    "\n",
    "\n",
    "    block4 = encoder_conv_block_batch_norm(inputs = pool3, n_filters=n_filters*8, dropout = dropout, kernel_size = 3)\n",
    "    print(\"block4\", block4.shape)\n",
    "    pool4 = MaxPooling2D(pool_size=(2, 2)) (block4)\n",
    "\n",
    "\n",
    "    bridge = encoder_conv_block_batch_norm(inputs = pool4, n_filters=n_filters*16, dropout = dropout, kernel_size = 3)\n",
    "    print(\"bridge\", bridge.shape)\n",
    "\n",
    "\n",
    "    up1 = Conv2DTranspose(n_filters*8, (3, 3), strides=(2, 2), padding='same') (bridge)\n",
    "    print(\"up1\", up1.shape)\n",
    "\n",
    "\n",
    "    up1 = concatenate([up1, block4])\n",
    "    up_block1 =  encoder_conv_block_batch_norm(inputs = up1, n_filters=n_filters*8, dropout = dropout, kernel_size = 3)\n",
    "    \n",
    "    up2 = Conv2DTranspose(n_filters*4, (3, 3), strides=(2, 2), padding='same') (up_block1)\n",
    "    up2 = concatenate([up2, block3])\n",
    "    up_block2 = encoder_conv_block_batch_norm(inputs = up2, n_filters=n_filters*4, dropout = dropout, kernel_size = 3)\n",
    "\n",
    "\n",
    "    up3 = Conv2DTranspose(n_filters*2, (3, 3), strides=(2, 2), padding='same') (up_block2)\n",
    "    up3 = concatenate([up3, block2])\n",
    "    up_block3 = encoder_conv_block_batch_norm(inputs = up3, n_filters=n_filters*2, dropout = dropout, kernel_size = 3)\n",
    "    \n",
    "    up4 = Conv2DTranspose(n_filters*1, (3, 3), strides=(2, 2), padding='same') (up_block3)\n",
    "    up4 = concatenate([up4, block1])\n",
    "    up_block3 = encoder_conv_block_batch_norm(inputs = up4, n_filters=n_filters*1, dropout = dropout, kernel_size = 3)\n",
    "    \n",
    "    outputs = Conv2D(1, (1, 1), activation='sigmoid') (up_block3)\n",
    "    model = Model(inputs=inputs, outputs=outputs)\n",
    "    opt  = get_opt()\n",
    "    model.compile(optimizer = opt, loss = 'binary_crossentropy')\n",
    "    return model"
   ]
  },
  {
   "cell_type": "code",
   "execution_count": 142,
   "metadata": {},
   "outputs": [],
   "source": [
    "def load_images_from_folder(folder_path):\n",
    "    file_names = os.listdir(folder_path)\n",
    "    file_names.sort()\n",
    "    images = []\n",
    "    for filename in file_names:\n",
    "        try:\n",
    "            image =imread(folder_path + filename)\n",
    "            images.append(rgb2gray(image).reshape(32,32,1))\n",
    "        except:\n",
    "            continue\n",
    "    return images"
   ]
  },
  {
   "cell_type": "code",
   "execution_count": 143,
   "metadata": {},
   "outputs": [],
   "source": [
    "def generator(x_train, y_train, batch_size):\n",
    "    data_gen = ImageDataGenerator(\n",
    "        horizontal_flip = True, vertical_flip = True,\n",
    "    ).flow(x_train, x_train, batch_size, seed=1)\n",
    "    mask_gen = ImageDataGenerator(\n",
    "        horizontal_flip = True, vertical_flip = True\n",
    "    ).flow(y_train, y_train, batch_size, seed=1)\n",
    "    while True:\n",
    "        x_batch, _ = data_gen.next()\n",
    "        y_batch, _ = mask_gen.next()\n",
    "        yield x_batch, y_batch"
   ]
  },
  {
   "cell_type": "markdown",
   "metadata": {},
   "source": [
    "## Test data augmentation function"
   ]
  },
  {
   "cell_type": "code",
   "execution_count": 144,
   "metadata": {},
   "outputs": [
    {
     "data": {
      "image/png": "[encoded data removed]",
      "text/plain": [
       "<Figure size 576x1440 with 16 Axes>"
      ]
     },
     "metadata": {
      "needs_background": "light"
     },
     "output_type": "display_data"
    }
   ],
   "source": [
    "\n",
    "X_train = np.array(load_images_from_folder(\"../../data/DRIVE/training/patches/\"))\n",
    "y_train = np.array(load_images_from_folder(\"../../data/DRIVE/training/patchLabels/\"))\n",
    "image_batch, mask_batch = next(generator(X_train, y_train, 8))\n",
    "fix, ax = plt.subplots(8,2, figsize=(8,20))\n",
    "for i in range(8):\n",
    "    ax[i,0].imshow(image_batch[i,:,:,0])\n",
    "    ax[i,1].imshow(mask_batch[i,:,:,0])\n",
    "plt.show()"
   ]
  },
  {
   "cell_type": "code",
   "execution_count": 145,
   "metadata": {},
   "outputs": [],
   "source": [
    "def train(epochs, n_folds, model_dict, saveModel = False):\n",
    "    X = np.array(load_images_from_folder(\"../../data/DRIVE/training/patches/\"))\n",
    "    y = np.array(load_images_from_folder(\"../../data/DRIVE/training/patchLabels/\"))\n",
    "    load_model = model_dict['load_model']\n",
    "    args = model_dict['args']\n",
    "    model = load_model(**args)\n",
    "    batch_size = 32\n",
    "    historyList =[]\n",
    "    pathToSaveModel = \"../../savedModels/\"\n",
    "    if saveModel:\n",
    "        #if we cant save then we crash here\n",
    "        model.save(pathToSaveModel + \"test.h5\")\n",
    "    if n_folds > 0:\n",
    "        if (len(X) % n_folds) != 0:\n",
    "            raise Exception('Same eye in validation and traning set, Patches: ', X_train.shape[1], ' Folds', n_folds)\n",
    "        sizeFold = len(X) // n_folds\n",
    "        fold_idx = []\n",
    "        for fold in range(n_folds):\n",
    "            for curIdx in range(sizeFold):\n",
    "                fold_idx.append(fold)\n",
    "        fold_idx = np.array(fold_idx)\n",
    "    \n",
    "        for fold in range(n_folds):\n",
    "            train_idx = fold_idx != fold\n",
    "            test_idx = fold_idx == fold\n",
    "            X_train = X[train_idx]\n",
    "            y_train = y[train_idx]\n",
    "            X_test = X[test_idx]\n",
    "            y_test = y[test_idx]\n",
    "            model = load_model(**args)\n",
    "            earlyStopping = EarlyStopping(monitor='val_loss', patience=10, verbose=0, mode='min')\n",
    "            mcp_save = ModelCheckpoint('.mdl_wtsPL.hdf5', save_best_only=True, monitor='val_loss', mode='min')\n",
    "            #reduce_lr_loss = ReduceLROnPlateau(monitor='val_loss', factor=0.05, patience=5, verbose=1, epsilon=1e-4, mode='min')\n",
    "            history = model.fit_generator(generator(X_train, y_train, batch_size = batch_size),\n",
    "                                  epochs = epochs, steps_per_epoch = len(X_train)//batch_size,\n",
    "                                          callbacks=[earlyStopping, mcp_save],\n",
    "                                             validation_data = (X_test,y_test))\n",
    "            historyList.append(history)\n",
    "    elif saveModel or (n_folds == 0):\n",
    "        model = load_model(**args)\n",
    "        history = model.fit_generator(generator(X, y, batch_size = batch_size),\n",
    "                                      epochs = epochs, steps_per_epoch = len(X)//batch_size)\n",
    "        historyList.append(history)\n",
    "        if saveModel:\n",
    "            model.save(pathToSaveModel+model_dict['name']+\".h5\")\n",
    "    return model, historyList\n",
    "    "
   ]
  },
  {
   "cell_type": "markdown",
   "metadata": {},
   "source": [
    "## Train model on the full data set, no cross validation"
   ]
  },
  {
   "cell_type": "code",
   "execution_count": 146,
   "metadata": {},
   "outputs": [
    {
     "name": "stdout",
     "output_type": "stream",
     "text": [
      "block1 (?, 32, 32, 16)\n",
      "block2 (?, 16, 16, 32)\n",
      "block3 (?, 8, 8, 64)\n",
      "block4 (?, 4, 4, 128)\n",
      "bridge (?, 2, 2, 256)\n",
      "up1 (?, ?, ?, 128)\n",
      "block1 (?, 32, 32, 16)\n",
      "block2 (?, 16, 16, 32)\n",
      "block3 (?, 8, 8, 64)\n",
      "block4 (?, 4, 4, 128)\n",
      "bridge (?, 2, 2, 256)\n",
      "up1 (?, ?, ?, 128)\n",
      "WARNING:tensorflow:From /Users/oscar/deeplearning/project/retinalSegmentation/lib/python3.7/site-packages/tensorflow/python/ops/math_ops.py:3066: to_int32 (from tensorflow.python.ops.math_ops) is deprecated and will be removed in a future version.\n",
      "Instructions for updating:\n",
      "Use tf.cast instead.\n",
      "Epoch 1/100\n",
      "62/62 [==============================] - 30s 477ms/step - loss: 0.6565\n",
      "Epoch 2/100\n",
      "24/62 [==========>...................] - ETA: 11s - loss: 0.5159"
     ]
    },
    {
     "ename": "KeyboardInterrupt",
     "evalue": "",
     "output_type": "error",
     "traceback": [
      "\u001b[0;31m---------------------------------------------------------------------------\u001b[0m",
      "\u001b[0;31mKeyboardInterrupt\u001b[0m                         Traceback (most recent call last)",
      "\u001b[0;32m<ipython-input-146-286378644a24>\u001b[0m in \u001b[0;36m<module>\u001b[0;34m\u001b[0m\n\u001b[1;32m      1\u001b[0m \u001b[0margs1\u001b[0m \u001b[0;34m=\u001b[0m \u001b[0;34m{\u001b[0m\u001b[0;34m'input_img'\u001b[0m \u001b[0;34m:\u001b[0m \u001b[0mInput\u001b[0m\u001b[0;34m(\u001b[0m\u001b[0;34m(\u001b[0m\u001b[0;36m32\u001b[0m\u001b[0;34m,\u001b[0m\u001b[0;36m32\u001b[0m\u001b[0;34m,\u001b[0m\u001b[0;36m1\u001b[0m\u001b[0;34m)\u001b[0m\u001b[0;34m)\u001b[0m\u001b[0;34m,\u001b[0m \u001b[0;34m'dropout'\u001b[0m \u001b[0;34m:\u001b[0m \u001b[0;36m0.2\u001b[0m\u001b[0;34m}\u001b[0m\u001b[0;34m\u001b[0m\u001b[0m\n\u001b[1;32m      2\u001b[0m \u001b[0mmodel_dict\u001b[0m \u001b[0;34m=\u001b[0m \u001b[0;34m{\u001b[0m\u001b[0;34m'load_model'\u001b[0m \u001b[0;34m:\u001b[0m \u001b[0mget_transp_conv_big_unet\u001b[0m\u001b[0;34m,\u001b[0m \u001b[0;34m'args'\u001b[0m \u001b[0;34m:\u001b[0m \u001b[0margs1\u001b[0m\u001b[0;34m}\u001b[0m\u001b[0;34m\u001b[0m\u001b[0m\n\u001b[0;32m----> 3\u001b[0;31m \u001b[0mchase_model\u001b[0m\u001b[0;34m,\u001b[0m \u001b[0mhistoryList\u001b[0m \u001b[0;34m=\u001b[0m \u001b[0mtrain\u001b[0m\u001b[0;34m(\u001b[0m\u001b[0mepochs\u001b[0m \u001b[0;34m=\u001b[0m \u001b[0;36m100\u001b[0m\u001b[0;34m,\u001b[0m \u001b[0mn_folds\u001b[0m \u001b[0;34m=\u001b[0m \u001b[0;36m0\u001b[0m\u001b[0;34m,\u001b[0m \u001b[0mmodel_dict\u001b[0m \u001b[0;34m=\u001b[0m \u001b[0mmodel_dict\u001b[0m\u001b[0;34m)\u001b[0m\u001b[0;34m\u001b[0m\u001b[0m\n\u001b[0m",
      "\u001b[0;32m<ipython-input-145-4e0f8bba4c72>\u001b[0m in \u001b[0;36mtrain\u001b[0;34m(epochs, n_folds, model_dict, saveModel)\u001b[0m\n\u001b[1;32m     40\u001b[0m         \u001b[0mmodel\u001b[0m \u001b[0;34m=\u001b[0m \u001b[0mload_model\u001b[0m\u001b[0;34m(\u001b[0m\u001b[0;34m**\u001b[0m\u001b[0margs\u001b[0m\u001b[0;34m)\u001b[0m\u001b[0;34m\u001b[0m\u001b[0m\n\u001b[1;32m     41\u001b[0m         history = model.fit_generator(generator(X, y, batch_size = batch_size),\n\u001b[0;32m---> 42\u001b[0;31m                                       epochs = epochs, steps_per_epoch = len(X)//batch_size)\n\u001b[0m\u001b[1;32m     43\u001b[0m         \u001b[0mhistoryList\u001b[0m\u001b[0;34m.\u001b[0m\u001b[0mappend\u001b[0m\u001b[0;34m(\u001b[0m\u001b[0mhistory\u001b[0m\u001b[0;34m)\u001b[0m\u001b[0;34m\u001b[0m\u001b[0m\n\u001b[1;32m     44\u001b[0m         \u001b[0;32mif\u001b[0m \u001b[0msaveModel\u001b[0m\u001b[0;34m:\u001b[0m\u001b[0;34m\u001b[0m\u001b[0m\n",
      "\u001b[0;32m~/deeplearning/project/retinalSegmentation/lib/python3.7/site-packages/keras/legacy/interfaces.py\u001b[0m in \u001b[0;36mwrapper\u001b[0;34m(*args, **kwargs)\u001b[0m\n\u001b[1;32m     89\u001b[0m                 warnings.warn('Update your `' + object_name + '` call to the ' +\n\u001b[1;32m     90\u001b[0m                               'Keras 2 API: ' + signature, stacklevel=2)\n\u001b[0;32m---> 91\u001b[0;31m             \u001b[0;32mreturn\u001b[0m \u001b[0mfunc\u001b[0m\u001b[0;34m(\u001b[0m\u001b[0;34m*\u001b[0m\u001b[0margs\u001b[0m\u001b[0;34m,\u001b[0m \u001b[0;34m**\u001b[0m\u001b[0mkwargs\u001b[0m\u001b[0;34m)\u001b[0m\u001b[0;34m\u001b[0m\u001b[0m\n\u001b[0m\u001b[1;32m     92\u001b[0m         \u001b[0mwrapper\u001b[0m\u001b[0;34m.\u001b[0m\u001b[0m_original_function\u001b[0m \u001b[0;34m=\u001b[0m \u001b[0mfunc\u001b[0m\u001b[0;34m\u001b[0m\u001b[0m\n\u001b[1;32m     93\u001b[0m         \u001b[0;32mreturn\u001b[0m \u001b[0mwrapper\u001b[0m\u001b[0;34m\u001b[0m\u001b[0m\n",
      "\u001b[0;32m~/deeplearning/project/retinalSegmentation/lib/python3.7/site-packages/keras/engine/training.py\u001b[0m in \u001b[0;36mfit_generator\u001b[0;34m(self, generator, steps_per_epoch, epochs, verbose, callbacks, validation_data, validation_steps, class_weight, max_queue_size, workers, use_multiprocessing, shuffle, initial_epoch)\u001b[0m\n\u001b[1;32m   1416\u001b[0m             \u001b[0muse_multiprocessing\u001b[0m\u001b[0;34m=\u001b[0m\u001b[0muse_multiprocessing\u001b[0m\u001b[0;34m,\u001b[0m\u001b[0;34m\u001b[0m\u001b[0m\n\u001b[1;32m   1417\u001b[0m             \u001b[0mshuffle\u001b[0m\u001b[0;34m=\u001b[0m\u001b[0mshuffle\u001b[0m\u001b[0;34m,\u001b[0m\u001b[0;34m\u001b[0m\u001b[0m\n\u001b[0;32m-> 1418\u001b[0;31m             initial_epoch=initial_epoch)\n\u001b[0m\u001b[1;32m   1419\u001b[0m \u001b[0;34m\u001b[0m\u001b[0m\n\u001b[1;32m   1420\u001b[0m     \u001b[0;34m@\u001b[0m\u001b[0minterfaces\u001b[0m\u001b[0;34m.\u001b[0m\u001b[0mlegacy_generator_methods_support\u001b[0m\u001b[0;34m\u001b[0m\u001b[0m\n",
      "\u001b[0;32m~/deeplearning/project/retinalSegmentation/lib/python3.7/site-packages/keras/engine/training_generator.py\u001b[0m in \u001b[0;36mfit_generator\u001b[0;34m(model, generator, steps_per_epoch, epochs, verbose, callbacks, validation_data, validation_steps, class_weight, max_queue_size, workers, use_multiprocessing, shuffle, initial_epoch)\u001b[0m\n\u001b[1;32m    215\u001b[0m                 outs = model.train_on_batch(x, y,\n\u001b[1;32m    216\u001b[0m                                             \u001b[0msample_weight\u001b[0m\u001b[0;34m=\u001b[0m\u001b[0msample_weight\u001b[0m\u001b[0;34m,\u001b[0m\u001b[0;34m\u001b[0m\u001b[0m\n\u001b[0;32m--> 217\u001b[0;31m                                             class_weight=class_weight)\n\u001b[0m\u001b[1;32m    218\u001b[0m \u001b[0;34m\u001b[0m\u001b[0m\n\u001b[1;32m    219\u001b[0m                 \u001b[0mouts\u001b[0m \u001b[0;34m=\u001b[0m \u001b[0mto_list\u001b[0m\u001b[0;34m(\u001b[0m\u001b[0mouts\u001b[0m\u001b[0;34m)\u001b[0m\u001b[0;34m\u001b[0m\u001b[0m\n",
      "\u001b[0;32m~/deeplearning/project/retinalSegmentation/lib/python3.7/site-packages/keras/engine/training.py\u001b[0m in \u001b[0;36mtrain_on_batch\u001b[0;34m(self, x, y, sample_weight, class_weight)\u001b[0m\n\u001b[1;32m   1215\u001b[0m             \u001b[0mins\u001b[0m \u001b[0;34m=\u001b[0m \u001b[0mx\u001b[0m \u001b[0;34m+\u001b[0m \u001b[0my\u001b[0m \u001b[0;34m+\u001b[0m \u001b[0msample_weights\u001b[0m\u001b[0;34m\u001b[0m\u001b[0m\n\u001b[1;32m   1216\u001b[0m         \u001b[0mself\u001b[0m\u001b[0;34m.\u001b[0m\u001b[0m_make_train_function\u001b[0m\u001b[0;34m(\u001b[0m\u001b[0;34m)\u001b[0m\u001b[0;34m\u001b[0m\u001b[0m\n\u001b[0;32m-> 1217\u001b[0;31m         \u001b[0moutputs\u001b[0m \u001b[0;34m=\u001b[0m \u001b[0mself\u001b[0m\u001b[0;34m.\u001b[0m\u001b[0mtrain_function\u001b[0m\u001b[0;34m(\u001b[0m\u001b[0mins\u001b[0m\u001b[0;34m)\u001b[0m\u001b[0;34m\u001b[0m\u001b[0m\n\u001b[0m\u001b[1;32m   1218\u001b[0m         \u001b[0;32mreturn\u001b[0m \u001b[0munpack_singleton\u001b[0m\u001b[0;34m(\u001b[0m\u001b[0moutputs\u001b[0m\u001b[0;34m)\u001b[0m\u001b[0;34m\u001b[0m\u001b[0m\n\u001b[1;32m   1219\u001b[0m \u001b[0;34m\u001b[0m\u001b[0m\n",
      "\u001b[0;32m~/deeplearning/project/retinalSegmentation/lib/python3.7/site-packages/keras/backend/tensorflow_backend.py\u001b[0m in \u001b[0;36m__call__\u001b[0;34m(self, inputs)\u001b[0m\n\u001b[1;32m   2713\u001b[0m                 \u001b[0;32mreturn\u001b[0m \u001b[0mself\u001b[0m\u001b[0;34m.\u001b[0m\u001b[0m_legacy_call\u001b[0m\u001b[0;34m(\u001b[0m\u001b[0minputs\u001b[0m\u001b[0;34m)\u001b[0m\u001b[0;34m\u001b[0m\u001b[0m\n\u001b[1;32m   2714\u001b[0m \u001b[0;34m\u001b[0m\u001b[0m\n\u001b[0;32m-> 2715\u001b[0;31m             \u001b[0;32mreturn\u001b[0m \u001b[0mself\u001b[0m\u001b[0;34m.\u001b[0m\u001b[0m_call\u001b[0m\u001b[0;34m(\u001b[0m\u001b[0minputs\u001b[0m\u001b[0;34m)\u001b[0m\u001b[0;34m\u001b[0m\u001b[0m\n\u001b[0m\u001b[1;32m   2716\u001b[0m         \u001b[0;32melse\u001b[0m\u001b[0;34m:\u001b[0m\u001b[0;34m\u001b[0m\u001b[0m\n\u001b[1;32m   2717\u001b[0m             \u001b[0;32mif\u001b[0m \u001b[0mpy_any\u001b[0m\u001b[0;34m(\u001b[0m\u001b[0mis_tensor\u001b[0m\u001b[0;34m(\u001b[0m\u001b[0mx\u001b[0m\u001b[0;34m)\u001b[0m \u001b[0;32mfor\u001b[0m \u001b[0mx\u001b[0m \u001b[0;32min\u001b[0m \u001b[0minputs\u001b[0m\u001b[0;34m)\u001b[0m\u001b[0;34m:\u001b[0m\u001b[0;34m\u001b[0m\u001b[0m\n",
      "\u001b[0;32m~/deeplearning/project/retinalSegmentation/lib/python3.7/site-packages/keras/backend/tensorflow_backend.py\u001b[0m in \u001b[0;36m_call\u001b[0;34m(self, inputs)\u001b[0m\n\u001b[1;32m   2673\u001b[0m             \u001b[0mfetched\u001b[0m \u001b[0;34m=\u001b[0m \u001b[0mself\u001b[0m\u001b[0;34m.\u001b[0m\u001b[0m_callable_fn\u001b[0m\u001b[0;34m(\u001b[0m\u001b[0;34m*\u001b[0m\u001b[0marray_vals\u001b[0m\u001b[0;34m,\u001b[0m \u001b[0mrun_metadata\u001b[0m\u001b[0;34m=\u001b[0m\u001b[0mself\u001b[0m\u001b[0;34m.\u001b[0m\u001b[0mrun_metadata\u001b[0m\u001b[0;34m)\u001b[0m\u001b[0;34m\u001b[0m\u001b[0m\n\u001b[1;32m   2674\u001b[0m         \u001b[0;32melse\u001b[0m\u001b[0;34m:\u001b[0m\u001b[0;34m\u001b[0m\u001b[0m\n\u001b[0;32m-> 2675\u001b[0;31m             \u001b[0mfetched\u001b[0m \u001b[0;34m=\u001b[0m \u001b[0mself\u001b[0m\u001b[0;34m.\u001b[0m\u001b[0m_callable_fn\u001b[0m\u001b[0;34m(\u001b[0m\u001b[0;34m*\u001b[0m\u001b[0marray_vals\u001b[0m\u001b[0;34m)\u001b[0m\u001b[0;34m\u001b[0m\u001b[0m\n\u001b[0m\u001b[1;32m   2676\u001b[0m         \u001b[0;32mreturn\u001b[0m \u001b[0mfetched\u001b[0m\u001b[0;34m[\u001b[0m\u001b[0;34m:\u001b[0m\u001b[0mlen\u001b[0m\u001b[0;34m(\u001b[0m\u001b[0mself\u001b[0m\u001b[0;34m.\u001b[0m\u001b[0moutputs\u001b[0m\u001b[0;34m)\u001b[0m\u001b[0;34m]\u001b[0m\u001b[0;34m\u001b[0m\u001b[0m\n\u001b[1;32m   2677\u001b[0m \u001b[0;34m\u001b[0m\u001b[0m\n",
      "\u001b[0;32m~/deeplearning/project/retinalSegmentation/lib/python3.7/site-packages/tensorflow/python/client/session.py\u001b[0m in \u001b[0;36m__call__\u001b[0;34m(self, *args, **kwargs)\u001b[0m\n\u001b[1;32m   1437\u001b[0m           ret = tf_session.TF_SessionRunCallable(\n\u001b[1;32m   1438\u001b[0m               \u001b[0mself\u001b[0m\u001b[0;34m.\u001b[0m\u001b[0m_session\u001b[0m\u001b[0;34m.\u001b[0m\u001b[0m_session\u001b[0m\u001b[0;34m,\u001b[0m \u001b[0mself\u001b[0m\u001b[0;34m.\u001b[0m\u001b[0m_handle\u001b[0m\u001b[0;34m,\u001b[0m \u001b[0margs\u001b[0m\u001b[0;34m,\u001b[0m \u001b[0mstatus\u001b[0m\u001b[0;34m,\u001b[0m\u001b[0;34m\u001b[0m\u001b[0m\n\u001b[0;32m-> 1439\u001b[0;31m               run_metadata_ptr)\n\u001b[0m\u001b[1;32m   1440\u001b[0m         \u001b[0;32mif\u001b[0m \u001b[0mrun_metadata\u001b[0m\u001b[0;34m:\u001b[0m\u001b[0;34m\u001b[0m\u001b[0m\n\u001b[1;32m   1441\u001b[0m           \u001b[0mproto_data\u001b[0m \u001b[0;34m=\u001b[0m \u001b[0mtf_session\u001b[0m\u001b[0;34m.\u001b[0m\u001b[0mTF_GetBuffer\u001b[0m\u001b[0;34m(\u001b[0m\u001b[0mrun_metadata_ptr\u001b[0m\u001b[0;34m)\u001b[0m\u001b[0;34m\u001b[0m\u001b[0m\n",
      "\u001b[0;31mKeyboardInterrupt\u001b[0m: "
     ]
    }
   ],
   "source": [
    "args1 = {'input_img' : Input((32,32,1)), 'dropout' : 0.2}\n",
    "model_dict = {'load_model' : get_transp_conv_big_unet, 'args' : args1}\n",
    "chase_model, historyList = train(epochs = 100, n_folds = 0, model_dict = model_dict)\n"
   ]
  },
  {
   "cell_type": "markdown",
   "metadata": {},
   "source": [
    "## Compare 3 models with different dropout"
   ]
  },
  {
   "cell_type": "code",
   "execution_count": null,
   "metadata": {},
   "outputs": [],
   "source": [
    "def train_3_models_dropout():\n",
    "    epochs = 1\n",
    "    model_name = [\"TranspConv\", \"Seismic\", \"UpSample\"]\n",
    "\n",
    "    load_model = [get_transp_conv_unet, get_unet_seismic, get_up_sample_unet]\n",
    "\n",
    "    dropouts = [0]\n",
    "\n",
    "    model_dicts = []\n",
    "    for dropout in dropouts:\n",
    "        for model_idx in range(len(model_name)):\n",
    "            arg = {}\n",
    "            arg['dropout'] = dropout\n",
    "            arg['input_img'] = Input((32,32,1))\n",
    "            model_dict = {}\n",
    "            model_dict['load_model'] = load_model[model_idx]\n",
    "            model_dict['args'] = arg\n",
    "            model_dict['name'] = model_name[model_idx] + str(dropout)\n",
    "            model_dicts.append(model_dict)\n",
    "\n",
    "\n",
    "    models = []\n",
    "    historyLists =[]\n",
    "    for model_dict in model_dicts:\n",
    "        print(model_dict['name'])\n",
    "        model, historyList = train(epochs = epochs, n_folds = 2, model_dict = model_dict)\n",
    "        models.append(model)\n",
    "        historyLists.append(historyList)\n",
    "    return historyLists, model_dicts,models"
   ]
  },
  {
   "cell_type": "code",
   "execution_count": null,
   "metadata": {},
   "outputs": [],
   "source": [
    "#historyLists, model_dicts, models = train_3_models_dropout()"
   ]
  },
  {
   "cell_type": "code",
   "execution_count": null,
   "metadata": {},
   "outputs": [],
   "source": [
    "def plotMultipleModels(full_model_history_df):\n",
    "    plt.style.use('ggplot')\n",
    "    ax = sns.lineplot(x=\"epochs\", y=\"loss\", style=\"type\", hue= 'model', data=full_model_history_df, ci = None)\n",
    "    legend = ax.legend()\n",
    "    handles, labels = ax.get_legend_handles_labels()\n",
    "    ax.legend(handles=handles[1:], labels=labels[1:])\n",
    "    %config InlineBackend.figure_format = 'retina'\n",
    "    ax.legend(loc='upper center', bbox_to_anchor= (1.11, 1), shadow=True, fontsize = 'large')\n",
    "    #ax.set_ylim(0.32,0.4)\n",
    "    ax.set_title('Three architectures with diffrent dropout rates', fontSize = 18)\n",
    "    ax.set_xlabel('epochs',fontSize = 16)\n",
    "    ax.set_ylabel('loss', fontSize = 16)\n",
    "    sns.set(rc={'figure.figsize':(14,11)})\n",
    "    #ax.set_ylim(0.34,0.4)\n",
    "    #ax.set_xlim(10,50)\n",
    "\n",
    "    plt.show()"
   ]
  },
  {
   "cell_type": "code",
   "execution_count": null,
   "metadata": {},
   "outputs": [],
   "source": [
    "def plotComparisonOfModels( historyLists, model_dicts):\n",
    "    full_model_history_df = pd.DataFrame()\n",
    "    for cur_model_nr in range(len(model_dicts)):\n",
    "        loss_data = ([i.history['loss'] for i in historyLists[cur_model_nr]])\n",
    "        val_loss_data = ([i.history['val_loss'] for i in historyLists[cur_model_nr]])\n",
    "        all_data = loss_data + val_loss_data\n",
    "        all_data.append( [i+1 for i in range(len(historyLists[cur_model_nr][0].history['val_loss']))])\n",
    "        model_history_df = pd.DataFrame(all_data).T\n",
    "        column_names = []\n",
    "        foldLossName = []\n",
    "        for i in range(len(loss_data)):\n",
    "            foldLossName.append(\"fold\"+str(i)+\"_loss\")\n",
    "        column_names += foldLossName\n",
    "        foldValLossName = []\n",
    "        for i in range(len(val_loss_data)):\n",
    "            foldValLossName.append(\"fold\"+str(i)+\"val_loss\")\n",
    "        column_names += foldValLossName\n",
    "        column_names.append('epochs')\n",
    "        model_history_df.columns=column_names\n",
    "        model_history_df[\"model\"] = model_dicts[cur_model_nr]['name']\n",
    "        #plt.plot(history.history['loss'])\n",
    "        #plt.plot(history.history['val_loss'])\n",
    "        #plt.xlabel(\"epoch\")\n",
    "        #plt.ylabel(\"loss\")\n",
    "        #plt.show()\n",
    "        model_history_df = pd.melt(model_history_df, value_vars=foldLossName+ foldValLossName,\n",
    "                                   id_vars = ['epochs','model'] ,value_name = \"loss\")\n",
    "        types = ['train', 'validation']\n",
    "        trainOrValidation = []\n",
    "        for i in types:\n",
    "            for j in range(model_history_df.shape[0]//2):\n",
    "                trainOrValidation.append(i)\n",
    "        model_history_df['type'] =trainOrValidation\n",
    "        model_history_df = model_history_df.astype({'epochs': int})\n",
    "        full_model_history_df = pd.concat([full_model_history_df, model_history_df], ignore_index = True)\n",
    "    full_model_history_df.to_pickle(\"fullModelHistorydf.pkl\")\n",
    "    plotMultipleModels(full_model_history_df)\n"
   ]
  },
  {
   "cell_type": "code",
   "execution_count": null,
   "metadata": {},
   "outputs": [],
   "source": [
    "plotComparisonOfModels(historyLists, model_dicts)"
   ]
  },
  {
   "cell_type": "code",
   "execution_count": null,
   "metadata": {},
   "outputs": [],
   "source": [
    "def best_model_more_detailed():\n",
    "    epochs = 150\n",
    "    model_name = [\"TranspConv\", \"UpSample\"]\n",
    "\n",
    "    load_model = [get_transp_conv_unet, get_up_sample_unet]\n",
    "\n",
    "    dropouts = [0.05, 0.2]\n",
    "    model_dicts = []\n",
    "    for dropout in dropouts:\n",
    "        for model_idx in range(len(model_name)):\n",
    "            arg = {}\n",
    "            arg['dropout'] = dropout\n",
    "            arg['input_img'] = Input((32,32,1))\n",
    "            model_dict = {}\n",
    "            model_dict['load_model'] = load_model[model_idx]\n",
    "            model_dict['args'] = arg\n",
    "            model_dict['name'] = model_name[model_idx] + str(dropout)\n",
    "            model_dicts.append(model_dict)\n",
    "    models = []\n",
    "    historyLists =[]\n",
    "    for model_dict in model_dicts:\n",
    "        print(model_dict['name'])\n",
    "        model, historyList = train(epochs = epochs, n_folds = 4, model_dict = model_dict)\n",
    "        models.append(model)\n",
    "        historyLists.append(historyList)\n",
    "    return historyLists, model_dicts, models"
   ]
  },
  {
   "cell_type": "code",
   "execution_count": null,
   "metadata": {},
   "outputs": [],
   "source": [
    "historyLists_detail, model_dicts_detail, models_detail = best_model_more_detailed()"
   ]
  },
  {
   "cell_type": "code",
   "execution_count": null,
   "metadata": {},
   "outputs": [],
   "source": [
    "plotComparisonOfModels(historyLists_detail, model_dicts_detail)"
   ]
  },
  {
   "cell_type": "code",
   "execution_count": null,
   "metadata": {
    "scrolled": true
   },
   "outputs": [],
   "source": [
    "nr_of_images = 10\n",
    "fig, ax = plt.subplots(nr_of_images,4, figsize=(8,20))\n",
    "fig.tight_layout()\n",
    "for image_nr in range(nr_of_images):\n",
    "    ax[image_nr,0].imshow(X_train[image_nr].reshape(32,32))\n",
    "    ax[image_nr,1].imshow(y_train[image_nr].reshape(32,32))\n",
    "    y_pred = res.predict(X_train[image_nr:(image_nr+1)]).reshape(32,32)\n",
    "    y_pred_thr = y_pred.copy()\n",
    "    y_pred_thr[y_pred > 0.5] = 1\n",
    "    y_pred_thr[y_pred <= 0.5] = 0\n",
    "    ax[image_nr,2].imshow(y_pred)\n",
    "    ax[image_nr,3].imshow(y_pred_thr)\n",
    "    for j in range(4):\n",
    "        ax[image_nr,j].set_xticklabels([])\n",
    "        ax[image_nr,j].set_yticklabels([])\n",
    "plt.show()\n",
    "\n"
   ]
  },
  {
   "cell_type": "code",
   "execution_count": null,
   "metadata": {},
   "outputs": [],
   "source": [
    "drive_test_images = helpers.load_images_from_folder(helpers.DRIVE_TEST_IMAGES_PATH)\n",
    "drive_test_mask = helpers.load_images_from_folder(helpers.DRIVE_TEST_MASK_PATH)\n",
    "drive_test_segmented = helpers.load_images_from_folder(helpers.DRIVE_TEST_SEG_1_PATH)\n",
    "\n",
    "drive_training_images = helpers.load_images_from_folder(helpers.DRIVE_TRAINING_IMAGES_PATH)\n",
    "drive_training_mask = helpers.load_images_from_folder(helpers.DRIVE_TRAINING_MASK_PATH)\n",
    "drive_training_segmented = helpers.load_images_from_folder(helpers.DRIVE_TRAINING_SEG_1_PATH)\n",
    "\n",
    "chase_training_images = helpers.load_images_from_folder(helpers.CHASE_IMAGES_PATH)\n",
    "chase_training_mask = helpers.load_images_from_folder(helpers.CHASE_MASK_PATH)\n",
    "chase_training_segmented = helpers.load_images_from_folder(helpers.CHASE_SEG_1_PATH)"
   ]
  },
  {
   "cell_type": "code",
   "execution_count": null,
   "metadata": {},
   "outputs": [],
   "source": [
    "def get_test_score(images, mask, segmentation, model, plot=False, nr_of_images=None ):\n",
    "    if not nr_of_images:\n",
    "        nr_of_images = len(images)\n",
    "    total_auc_score = 0\n",
    "    total_accuracy = 0\n",
    "    total_sensitivity = 0\n",
    "    total_specificity = 0\n",
    "    if plot:\n",
    "        fig, ax = plt.subplots(nr_of_images,3, figsize=(20,20))\n",
    "    for (i, image) in enumerate(images[:nr_of_images]):\n",
    "        print('Segmenting image',(i+1))\n",
    "        full_image_segmentation = helpers.segment_whole_image(image, mask[i], 32, helpers.Dataset.DRIVE, model)\n",
    "        total_auc_score += helpers.roc_auc(full_image_segmentation, segmentation[i], mask[i])\n",
    "        total_accuracy += helpers.accuracy(full_image_segmentation, segmentation[i], mask[i])\n",
    "        total_sensitivity += helpers.sensitivity(full_image_segmentation, segmentation[i], mask[i])\n",
    "        total_specificity += helpers.specificity(full_image_segmentation, segmentation[i], mask[i])\n",
    "        if plot:\n",
    "            ax[i, 0].imshow(full_image_segmentation)\n",
    "            ax[i, 1].imshow(segmentation[i])\n",
    "            ax[i, 2].imshow(image)\n",
    "            \n",
    "    print('Average auc score: ', total_auc_score/nr_of_images)\n",
    "    print('Average accuracy score: ', total_accuracy/ nr_of_images )\n",
    "    print('Average sensitivity score: ', total_sensitivity/ nr_of_images )\n",
    "    print('Average specificity score: ', total_specificity/nr_of_images )\n",
    "    if plot:\n",
    "        plt.show()\n",
    "            "
   ]
  },
  {
   "cell_type": "code",
   "execution_count": null,
   "metadata": {},
   "outputs": [],
   "source": [
    "get_test_score(drive_test_images, drive_test_mask, drive_test_segmented, final_model_more_data, False, 20)"
   ]
  },
  {
   "cell_type": "code",
   "execution_count": null,
   "metadata": {},
   "outputs": [],
   "source": [
    "final_model_more_data = load_model('../../savedModels/bestLong')"
   ]
  },
  {
   "cell_type": "code",
   "execution_count": null,
   "metadata": {},
   "outputs": [],
   "source": [
    "fig, ax = plt.subplots(2,4, figsize=(20,20))\n",
    "full_image_segmentation = helpers.segment_whole_image(drive_test_images[0], drive_test_mask[0], 32, helpers.Dataset.DRIVE, final_model_more_data)\n",
    "ax[0,0].imshow(full_image_segmentation)\n",
    "full_image_segmentation[full_image_segmentation > 0.5] = 1\n",
    "full_image_segmentation[full_image_segmentation <= 0.5] = 0\n",
    "ax[0,1].imshow(full_image_segmentation)\n",
    "ax[0,2].imshow(drive_test_segmented[0])\n",
    "ax[0,3].imshow(drive_test_images[0])\n",
    "\n",
    "full_image_segmentation = helpers.segment_whole_image(drive_test_images[1], drive_test_mask[1], 32, helpers.Dataset.DRIVE, final_model_more_data)\n",
    "ax[1,0].imshow(full_image_segmentation)\n",
    "full_image_segmentation[full_image_segmentation > 0.5] = 1\n",
    "full_image_segmentation[full_image_segmentation <= 0.5] = 0\n",
    "ax[1,1].imshow(full_image_segmentation)\n",
    "ax[1,2].imshow(drive_test_segmented[1])\n",
    "ax[1,3].imshow(drive_test_images[1])\n",
    "\n",
    "plt.show()"
   ]
  },
  {
   "cell_type": "code",
   "execution_count": null,
   "metadata": {},
   "outputs": [],
   "source": [
    "get_test_score(drive_test_images, drive_test_mask, drive_test_segmented, final_model_more_data, True, 2)"
   ]
  },
  {
   "cell_type": "code",
   "execution_count": null,
   "metadata": {},
   "outputs": [],
   "source": [
    "final_model_more_data.save('../../savedModels/bestLong')"
   ]
  },
  {
   "cell_type": "code",
   "execution_count": null,
   "metadata": {},
   "outputs": [],
   "source": [
    "get_test_score(drive_test_images, drive_test_mask, drive_test_segmented, final_model_no_stop, True, 3)"
   ]
  },
  {
   "cell_type": "code",
   "execution_count": null,
   "metadata": {},
   "outputs": [],
   "source": [
    "get_test_score(drive_test_images, drive_test_mask, drive_test_segmented, final_model_no_stop, False, 20)"
   ]
  },
  {
   "cell_type": "code",
   "execution_count": null,
   "metadata": {},
   "outputs": [],
   "source": [
    "get_test_score(drive_test_images, drive_test_mask, drive_test_segmented, transfer_model3, False, 20)"
   ]
  },
  {
   "cell_type": "code",
   "execution_count": null,
   "metadata": {},
   "outputs": [],
   "source": [
    "get_test_score(drive_test_images, drive_test_mask, drive_test_segmented, drive_model, False, 20)"
   ]
  },
  {
   "cell_type": "code",
   "execution_count": null,
   "metadata": {},
   "outputs": [],
   "source": [
    "get_test_score(drive_test_images, drive_test_mask, drive_test_segmented, chase_model, False, 20)"
   ]
  },
  {
   "cell_type": "code",
   "execution_count": null,
   "metadata": {},
   "outputs": [],
   "source": [
    "get_test_score(drive_test_images, drive_test_mask, drive_test_segmented, transfer_model4, False, 20)"
   ]
  },
  {
   "cell_type": "code",
   "execution_count": null,
   "metadata": {},
   "outputs": [],
   "source": [
    "def create_patches(images, segmentations, masks, n, patches_per_image):\n",
    "    nrOfImages = 0\n",
    "    for (i, image) in enumerate(images):\n",
    "        patch_images, patch_labels = helpers.get_image_pathes(image, segmentations[i], n, patches_per_image, helpers.Dataset.DRIVE, masks[i])\n",
    "        for (j, patch) in enumerate(patch_images):\n",
    "            name = str(i) + '_' + str(j)\n",
    "            helpers.save_image('../../data/DRIVE/training/patches/' + name + '.png', patch)\n",
    "            helpers.save_image('../../data/DRIVE/training/patchLabels/' + name + '.png' , patch_labels[j])\n",
    "            nrOfImages += 1"
   ]
  },
  {
   "cell_type": "code",
   "execution_count": null,
   "metadata": {},
   "outputs": [],
   "source": [
    "create_patches(drive_training_images, drive_training_segmented, drive_training_mask, 32, 1000)"
   ]
  },
  {
   "cell_type": "code",
   "execution_count": null,
   "metadata": {},
   "outputs": [],
   "source": [
    "def transfer_train(model, epochs, layers, n_folds=0):\n",
    "    transfer_model = model\n",
    "    for layer in transfer_model.layers[: 16]:\n",
    "        layer.trainable = False \n",
    "    opt  = Adam(lr=1E-4, beta_1=0.9, beta_2=0.999, epsilon=1e-08)\n",
    "    transfer_model.compile(optimizer = opt, loss = 'binary_crossentropy')\n",
    "    X = np.array(load_images_from_folder(\"../../data/DRIVE/training/patches/\"))\n",
    "    y = np.array(load_images_from_folder(\"../../data/DRIVE/training/patchLabels/\"))\n",
    "    batch_size = 32\n",
    "    historyList =[]\n",
    "    if n_folds > 0:\n",
    "        if (len(X) % n_folds) != 0:\n",
    "            raise Exception('Same eye in validation and traning set, Patches: ', X_train.shape[1], ' Folds', n_folds)\n",
    "        sizeFold = len(X) // n_folds\n",
    "        fold_idx = []\n",
    "        for fold in range(n_folds):\n",
    "            for curIdx in range(sizeFold):\n",
    "                fold_idx.append(fold)\n",
    "        fold_idx = np.array(fold_idx)\n",
    "    \n",
    "        for fold in range(n_folds):\n",
    "            train_idx = fold_idx != fold\n",
    "            test_idx = fold_idx == fold\n",
    "            X_train = X[train_idx]\n",
    "            y_train = y[train_idx]\n",
    "            X_test = X[test_idx]\n",
    "            y_test = y[test_idx]\n",
    "            transfer_model = copy_model(model)\n",
    "            for layer in transfer_model.layers[: -8*layers]:\n",
    "                layer.trainable = False\n",
    "            opt  = Adam(lr=1E-4, beta_1=0.9, beta_2=0.999, epsilon=1e-08)\n",
    "            transfer_model.compile(optimizer = opt, loss = 'binary_crossentropy')\n",
    "            history = transfer_model.fit_generator(generator(X_train, y_train, batch_size = batch_size),\n",
    "                                  epochs = epochs, steps_per_epoch = len(X_train)//batch_size,\n",
    "                                         validation_data = (X_test,y_test))\n",
    "            historyList.append(history)\n",
    "    elif n_folds == 0:\n",
    "        history = transfer_model.fit_generator(generator(X, y, batch_size = batch_size),\n",
    "                                      epochs = epochs, steps_per_epoch = len(X)//batch_size)\n",
    "        historyList.append(history)\n",
    "    return transfer_model, historyList"
   ]
  },
  {
   "cell_type": "code",
   "execution_count": null,
   "metadata": {},
   "outputs": [],
   "source": [
    "def transfer_vs_transConv(model):\n",
    "    model_dicts = []\n",
    "    historyLists = []\n",
    "    models = []\n",
    "    epochs = 5\n",
    "    frozenBlocks = [1]\n",
    "    model_names = ['TransferLearningB1', 'TransferLearningB2', 'TransferLearningB3', 'TransferLearningB4']\n",
    "    for model_name_idx in range(len(model_names)):\n",
    "        model_transf, history_transf = transfer_train(model= model,\n",
    "                                                      epochs = epochs, layers= frozenBlocks[model_name_idx], n_folds = 4)\n",
    "        model_dict = {'name' : model_names[model_name_idx]}\n",
    "        model_dicts.append(model_dict)\n",
    "        historyLists.append(history_transf) \n",
    "        models.append(model_transf)\n",
    "    return historyLists, model_dicts, models\n",
    "    \n"
   ]
  },
  {
   "cell_type": "code",
   "execution_count": null,
   "metadata": {},
   "outputs": [],
   "source": [
    "#historyLists_transf.append(historyLists_detail[2])\n",
    "#model_dicts_transf.append(model_dicts_detail[2])\n",
    "#models_transf.append(models_detail[2])\n",
    "plotComparisonOfModels([_], [])"
   ]
  },
  {
   "cell_type": "code",
   "execution_count": null,
   "metadata": {},
   "outputs": [],
   "source": [
    "transfer_model4, t = transfer_train(chase_model, 100, 1)"
   ]
  },
  {
   "cell_type": "code",
   "execution_count": null,
   "metadata": {},
   "outputs": [],
   "source": [
    "def copy_model(model):\n",
    "    model_copy= keras.models.clone_model(model)\n",
    "    model_copy.build() \n",
    "    opt  = Adam(lr=1E-4, beta_1=0.9, beta_2=0.999, epsilon=1e-08)\n",
    "    model_copy.compile(optimizer = opt, loss = 'binary_crossentropy')\n",
    "    model_copy.set_weights(model.get_weights())\n",
    "    return model_copy"
   ]
  },
  {
   "cell_type": "code",
   "execution_count": null,
   "metadata": {},
   "outputs": [],
   "source": [
    "print(chase_model.summary())\n",
    "print(len(chase_model.layers))"
   ]
  },
  {
   "cell_type": "code",
   "execution_count": null,
   "metadata": {},
   "outputs": [],
   "source": []
  }
 ],
 "metadata": {
  "kernelspec": {
   "display_name": "retinalSegmentationKernel",
   "language": "python",
   "name": "retinalsegmentationkernel"
  },
  "language_info": {
   "codemirror_mode": {
    "name": "ipython",
    "version": 3
   },
   "file_extension": ".py",
   "mimetype": "text/x-python",
   "name": "python",
   "nbconvert_exporter": "python",
   "pygments_lexer": "ipython3",
   "version": "3.7.0"
  }
 },
 "nbformat": 4,
 "nbformat_minor": 2
}
